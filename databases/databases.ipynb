{
 "cells": [
  {
   "cell_type": "markdown",
   "metadata": {},
   "source": [
    "# Базы данных\n",
    "![](https://i.ibb.co/8nkyKwT/db-meme.jpg)\n",
    "База данных - это технология, с помощью которой удобно хранить данные. У нее есть множество реализаций.\n",
    "\n",
    "Но основная идея состоит в следующем:\n",
    "* есть несколько зафиксированных **таблиц**\n",
    "* у каждой таблицы зафиксировано, какие в ней есть **столбцы** / поля\n",
    "* столбец определяется его названием и типом данных, который в нем лежит\n",
    "* основном объект хранения в базе данных - это **строчки**\n",
    "* каждая строчка соответствует какому-то объекту, и содержит значение каждого поля\n",
    "* есть **операции** создания таблицы, добавления/удаления/изменения строк в таблицах\n",
    "* есть язык для описания почти сколь угодно умных **запросов** к базе данных, он называется **SQL**\n",
    "* таблицы обычно глубоко взаимосвязаны: в столбцах разных таблиц могут храниться одни и те же id-шники, например\n",
    "\n",
    "Пример архитектуры несложной базы данных:\n",
    "\n",
    "* Таблица Students, состоящая из 3 столбцов StudentId (целое число), StudentName (строка) и BirthDate (дата)\n",
    "* Таблица Classes, состоящая из 2 столбцов ClassId (целое число) и ClassName (строка)\n",
    "* Таблица StudentClass, состоящая из 2 столбцов StudentId (целое число), ClassId (целоечисло) - она содер\n",
    "\n",
    "![Пример базы данных](https://i.ibb.co/zStny22/tables.jpg)\n",
    "\n",
    "Могут возникнуть вопросы: правда ли тут нужны 3 таблицы? И зачем нам нужны Id, если можно писать просто имена? Подумайте, как ответить на эти вопросы.\n",
    "\n",
    "Какие есть свойства у базы данных, что люди используют ее вместо pandas.DataFrame или Excel?\n",
    "* в базе данных удобно хранить сразу несколько таблиц\n",
    "* у базы данных есть очень гибкий язык запросов SQL\n",
    "* база данных запущена локально на сервере и обновляется с помощью запросов к ней\n",
    "* обычно базы отвечают на запросы очень быстро, потому что хранят данные не втупую подряд, а делают индексы по разным столбцам (это кстати можно контролировать)\n",
    "* база данных умеет обновляться атомарно: можно сделать несколько действий (запрос + удаление строчки + добавление строчки + еще что-нибудь) внутри одной транзакции, и не будет такого момента, когда половина запроса выполнилась, а другая - нет\n",
    "\n",
    "Нужно понимать, что база данных - это не единая технология, это набор разных идей, которы содержатся в разных реализациях в разных комбинациях. Например, базу данных можно поднять на распределенной системе кластера серверов и писать для нее запросы как в SQL, почти не задумываясь о том, что содержимое одной таблицы может лежать на 5 разных серверах.\n",
    "\n",
    "Если вы делаете серьезный проект: сайт, приложение, да даже бота - вам скорее всего понадобится база данных. Это точно лучше по памяти и времени, чем хранить все в оперативной памяти или тупо в файлике (если у вас хоть сколько-то много объектов - больше тысячи или десяти тысяч). Она будет запущена на сервере рядом с вашим основным скриптом, который будет иногда делать к ней запросы."
   ]
  },
  {
   "cell_type": "markdown",
   "metadata": {},
   "source": [
    "## Установка базы и библиотеки\n",
    "\n",
    "Как я уже говорил, реализаций баз данных много, давай например возьмем PostgreSQL.\n",
    "\n",
    "Сначала поставим ее на компьютер"
   ]
  },
  {
   "cell_type": "markdown",
   "metadata": {},
   "source": [
    "### на Linux или MacOS"
   ]
  },
  {
   "cell_type": "code",
   "execution_count": 9,
   "metadata": {},
   "outputs": [],
   "source": [
    "# Запустите из консоли вот эту строчку\n",
    "# sudo apt-get install postgresql postgresql-contrib"
   ]
  },
  {
   "cell_type": "markdown",
   "metadata": {},
   "source": [
    "### на Windows"
   ]
  },
  {
   "cell_type": "code",
   "execution_count": null,
   "metadata": {},
   "outputs": [],
   "source": [
    "# TO BE DISCOVERED"
   ]
  },
  {
   "cell_type": "markdown",
   "metadata": {},
   "source": [
    "### дальше одинаково из консоли"
   ]
  },
  {
   "cell_type": "markdown",
   "metadata": {},
   "source": [
    "Проверим, что все хорошо, и сервис включился:"
   ]
  },
  {
   "cell_type": "code",
   "execution_count": 12,
   "metadata": {},
   "outputs": [
    {
     "name": "stdout",
     "output_type": "stream",
     "text": [
      "\u001b[0;1;32m●\u001b[0m postgresql.service - PostgreSQL RDBMS\r\n",
      "   Loaded: loaded (/lib/systemd/system/postgresql.service; enabled; vendor preset: enabled)\r\n",
      "   Active: \u001b[0;1;32mactive (exited)\u001b[0m since Tue 2019-07-23 20:59:45 MSK; 13min ago\r\n",
      " Main PID: 4744 (code=exited, status=0/SUCCESS)\r\n",
      "    Tasks: 0 (limit: 4915)\r\n",
      "   CGroup: /system.slice/postgresql.service\r\n"
     ]
    }
   ],
   "source": [
    "!/etc/init.d/postgresql status"
   ]
  },
  {
   "cell_type": "markdown",
   "metadata": {},
   "source": [
    "Если сервис не включен, попробуйте его включить вот такими операциями:"
   ]
  },
  {
   "cell_type": "code",
   "execution_count": null,
   "metadata": {},
   "outputs": [],
   "source": [
    "# sudo service postgresql start\n",
    "# sudo service postgresql restart"
   ]
  },
  {
   "cell_type": "markdown",
   "metadata": {},
   "source": [
    "Давайте создадим себе пользователя и тестовую базу данных.\n",
    "\n",
    "При создании пользователя вас также попросят создать пароль."
   ]
  },
  {
   "cell_type": "code",
   "execution_count": 17,
   "metadata": {},
   "outputs": [
    {
     "name": "stdout",
     "output_type": "stream",
     "text": [
      "/bin/sh: 1: postgres: not found\n",
      "/bin/sh: 1: postgres: not found\n"
     ]
    }
   ],
   "source": [
    "# sudo -u postgres createuser -D -A -P username\n",
    "# sudo -u postgres createdb -O username testdb"
   ]
  },
  {
   "cell_type": "markdown",
   "metadata": {},
   "source": [
    "Перегрузим сервис, чтобы база создалась."
   ]
  },
  {
   "cell_type": "code",
   "execution_count": 131,
   "metadata": {},
   "outputs": [
    {
     "name": "stdout",
     "output_type": "stream",
     "text": [
      "Reloading postgresql configuration (via systemctl): postgresql.serviceFailed to reload postgresql.service: Access denied\n",
      "See system logs and 'systemctl status postgresql.service' for details.\n",
      " failed!\n"
     ]
    }
   ],
   "source": [
    "! /etc/init.d/postgresql reload"
   ]
  },
  {
   "cell_type": "markdown",
   "metadata": {},
   "source": [
    "Поставьте питоновскую библиотеку для рабоыт с этой базой из питона."
   ]
  },
  {
   "cell_type": "code",
   "execution_count": 4,
   "metadata": {},
   "outputs": [
    {
     "name": "stdout",
     "output_type": "stream",
     "text": [
      "Collecting psycopg2-binary\n",
      "  Downloading https://files.pythonhosted.org/packages/b1/35/75c9c2d9cfc073ab6c42b2d8e91ff58c9b99f4ed7ed56b36647642e6080e/psycopg2_binary-2.8.3-cp36-cp36m-manylinux1_x86_64.whl (2.9MB)\n",
      "\u001b[K    100% |████████████████████████████████| 2.9MB 662kB/s eta 0:00:011\n",
      "\u001b[?25hInstalling collected packages: psycopg2-binary\n",
      "Successfully installed psycopg2-binary-2.8.3\n"
     ]
    }
   ],
   "source": [
    "!pip3 install psycopg2-binary"
   ]
  },
  {
   "cell_type": "markdown",
   "metadata": {},
   "source": [
    "## Как работать с базой из питона\n",
    "\n",
    "Воспользуемся библиотекой psycopg2 для работы с PostgreSQL. Это не самая приятная библиотека, но нам нужно оттуда буквально пара штук."
   ]
  },
  {
   "cell_type": "code",
   "execution_count": 140,
   "metadata": {
    "scrolled": true
   },
   "outputs": [],
   "source": [
    "import psycopg2\n",
    "\n",
    "con = psycopg2.connect(dbname='testdb', user='username', \n",
    "                           password='password', host='localhost')\n",
    "cur = con.cursor()\n",
    "cur.execute('''\n",
    "DROP TABLE IF EXISTS Students;\n",
    "CREATE TABLE Students(StudentId INT PRIMARY KEY, Name VARCHAR(30), BirthDate DATE);\n",
    "INSERT INTO Students VALUES(1, 'Николай Иванов', '2003.03.01');\n",
    "INSERT INTO Students VALUES(2, 'Иван Даниилов', '2002.06.10');\n",
    "INSERT INTO Students VALUES(3, 'Даниил Дмитриев', '2002.05.28');\n",
    "INSERT INTO Students VALUES(4, 'Дмитрий Николаев', '2003.12.01');\n",
    "''')\n",
    "con.commit()"
   ]
  },
  {
   "cell_type": "markdown",
   "metadata": {},
   "source": [
    "Можете попробовать выполнить запрос еще раз: увидите, что у вас ничего не выйдет."
   ]
  },
  {
   "cell_type": "markdown",
   "metadata": {},
   "source": [
    "Давайте сделаем функцию, чтобы не писать каждый раз connect и commit. А еще обернем функцию в try-except."
   ]
  },
  {
   "cell_type": "code",
   "execution_count": 141,
   "metadata": {},
   "outputs": [],
   "source": [
    "def make_sql(query):\n",
    "    try:\n",
    "        con = psycopg2.connect(dbname='testdb', user='username', \n",
    "                               password='password', host='localhost')\n",
    "        cur = con.cursor()\n",
    "        cur.execute(query) # вот это самая главная строчка - выполнить запрос\n",
    "        con.commit()\n",
    "        return True\n",
    "    except psycopg2.DatabaseError as e:\n",
    "        if con:\n",
    "            con.rollback() # откатить изменения всех действий, если хоть в каком-то месте ошибка\n",
    "        print('Error in DataBase: {}'.format(e))\n",
    "        return False"
   ]
  },
  {
   "cell_type": "code",
   "execution_count": 142,
   "metadata": {},
   "outputs": [
    {
     "data": {
      "text/plain": [
       "True"
      ]
     },
     "execution_count": 142,
     "metadata": {},
     "output_type": "execute_result"
    }
   ],
   "source": [
    "make_sql('CREATE TABLE IF NOT EXISTS Students(StudentId INT PRIMARY KEY, Name VARCHAR(30), BirthDate DATE)')"
   ]
  },
  {
   "cell_type": "code",
   "execution_count": 154,
   "metadata": {},
   "outputs": [
    {
     "name": "stdout",
     "output_type": "stream",
     "text": [
      "Error in DataBase: relation \"students\" already exists\n",
      "\n"
     ]
    },
    {
     "data": {
      "text/plain": [
       "False"
      ]
     },
     "execution_count": 154,
     "metadata": {},
     "output_type": "execute_result"
    }
   ],
   "source": [
    "make_sql('CREATE TABLE Students(StudentId INT PRIMARY KEY, Name VARCHAR(30), BirthDate DATE)')"
   ]
  },
  {
   "cell_type": "markdown",
   "metadata": {},
   "source": [
    "## Язык SQL\n",
    "SQL = Structured Query Language = язык структурированных запросов.\n",
    "\n",
    "Язык придумали еще в 80-ые, и его придумывали изначально простым и понятным для любых пользователей. Общая структура запросов действительно очень простая и читаемая, но из-за этого из структуры зарпоса абсолютно нетривиально понять, как именно база данных будет его выполнять. Но для пользователя обычно это и не очень важно.\n",
    "\n",
    "Запросы в SQL иногда излишне длинные и имеют повторяющиеся части. Очень часто запрос на языке SQL составляется внутри другого языка программирования (питон) как длинная строка, куда подставляются какие-то ключевые слова, и потом уже передается базе данных. Это нормальная практика, не стесняйтесь так делать."
   ]
  },
  {
   "cell_type": "markdown",
   "metadata": {},
   "source": [
    "### Создание и удаление таблицы\n",
    "Функции `CREATE TABLE` и `DROP TABLE` вы уже видели:"
   ]
  },
  {
   "cell_type": "code",
   "execution_count": 147,
   "metadata": {},
   "outputs": [
    {
     "name": "stdout",
     "output_type": "stream",
     "text": [
      "Error in DataBase: table \"students\" does not exist\n",
      "\n"
     ]
    },
    {
     "data": {
      "text/plain": [
       "False"
      ]
     },
     "execution_count": 147,
     "metadata": {},
     "output_type": "execute_result"
    }
   ],
   "source": [
    "make_sql('DROP TABLE Students')"
   ]
  },
  {
   "cell_type": "code",
   "execution_count": 148,
   "metadata": {},
   "outputs": [
    {
     "name": "stdout",
     "output_type": "stream",
     "text": [
      "Error in DataBase: table \"students\" does not exist\n",
      "\n"
     ]
    },
    {
     "data": {
      "text/plain": [
       "False"
      ]
     },
     "execution_count": 148,
     "metadata": {},
     "output_type": "execute_result"
    }
   ],
   "source": [
    "make_sql('DROP TABLE Students')"
   ]
  },
  {
   "cell_type": "code",
   "execution_count": 163,
   "metadata": {},
   "outputs": [
    {
     "data": {
      "text/plain": [
       "True"
      ]
     },
     "execution_count": 163,
     "metadata": {},
     "output_type": "execute_result"
    }
   ],
   "source": [
    "make_sql('DROP TABLE IF EXISTS Students') # рекомендую простой if на существование таблицы, чтобы не было ошибок"
   ]
  },
  {
   "cell_type": "code",
   "execution_count": 164,
   "metadata": {},
   "outputs": [
    {
     "data": {
      "text/plain": [
       "True"
      ]
     },
     "execution_count": 164,
     "metadata": {},
     "output_type": "execute_result"
    }
   ],
   "source": [
    "make_sql('CREATE TABLE IF NOT EXISTS Students(StudentId INT PRIMARY KEY, Name TEXT, BirthDate DATE)')"
   ]
  },
  {
   "cell_type": "markdown",
   "metadata": {},
   "source": [
    "В скобках после названия таблицы нужно описать все столбцы этой таблицы: название и тип столбца.\n",
    "\n",
    "**Некоторые типы данных:**\n",
    "\n",
    "Целые числа\n",
    "* INT - целое 32-битное число\n",
    "* BIGINT - целое 64-битное число\n",
    "* BOOLEAN - бит\n",
    "\n",
    "Вещественные числа\n",
    "* REAL - вещественное 32-битное число с плавающей точкой\n",
    "* DOUBLE PRECISION - вещественное 64-битное число с плавающей точкой\n",
    "\n",
    "Строки\n",
    "* VARCHAR(N) - строка длины до N символов\n",
    "* TEXT - строка переменной длины (менее оптимально по памяти)\n",
    "\n",
    "Разное всякое\n",
    "* DATE - дата\n",
    "* TIME - время\n",
    "* TIMESTAMP - дата и время\n",
    "\n",
    "На самом деле типов в разы больше, всегда можете загуглить. Не все из них работают для всех реализаций баз данных."
   ]
  },
  {
   "cell_type": "markdown",
   "metadata": {},
   "source": [
    "### Вставка в таблицу\n",
    "\n",
    "Вставить одну строку очень просто с помощью `INSERT`. Если вам нужны более экзотические вещи - гуглите."
   ]
  },
  {
   "cell_type": "code",
   "execution_count": 165,
   "metadata": {},
   "outputs": [
    {
     "data": {
      "text/plain": [
       "True"
      ]
     },
     "execution_count": 165,
     "metadata": {},
     "output_type": "execute_result"
    }
   ],
   "source": [
    "make_sql(\"INSERT INTO Students VALUES(1, 'Николай Иванов', '2003.03.01');\")\n",
    "make_sql(\"INSERT INTO Students VALUES(2, 'Иван Даниилов', '2002.06.10');\")\n",
    "make_sql(\"INSERT INTO Students VALUES(3, 'Даниил Дмитриев', '2002.05.28');\")\n",
    "make_sql(\"INSERT INTO Students VALUES(4, 'Дмитрий Николаев', '2003.12.01');\")"
   ]
  },
  {
   "cell_type": "markdown",
   "metadata": {},
   "source": [
    "### Запросы к таблице\n",
    "\n",
    "А это самое интересное - запрос `SELECT`. В отличие от прошлых операций эта что-то возвращает (таблицу с результатом запроса).\n",
    "\n",
    "Давайте напишем для нее поэтому свою функцию."
   ]
  },
  {
   "cell_type": "code",
   "execution_count": 166,
   "metadata": {},
   "outputs": [],
   "source": [
    "def select_sql(query):\n",
    "    try:\n",
    "        con = psycopg2.connect(dbname='testdb', user='username', \n",
    "                               password='password', host='localhost')\n",
    "        cur = con.cursor()\n",
    "        cur.execute(query) # главная функция\n",
    "        con.commit()\n",
    "\n",
    "        # вытаскивание результата запроса с помощью cur.fetchone()\n",
    "        rows = []\n",
    "        while True:\n",
    "            row = cur.fetchone()\n",
    "            if row == None:\n",
    "                break\n",
    "            rows.append(row)\n",
    "        return rows\n",
    "    except psycopg2.DatabaseError as e:\n",
    "        if con:\n",
    "            con.rollback() # откатить изменения всех действий, если хоть в каком-то месте ошибка\n",
    "        print('Error in DataBase: {}'.format(e))\n",
    "        return False"
   ]
  },
  {
   "cell_type": "markdown",
   "metadata": {},
   "source": [
    "Теперь давайте изучать разные фишечки."
   ]
  },
  {
   "cell_type": "markdown",
   "metadata": {},
   "source": [
    "* Простейшие запросы"
   ]
  },
  {
   "cell_type": "code",
   "execution_count": 168,
   "metadata": {},
   "outputs": [
    {
     "data": {
      "text/plain": [
       "[('Николай Иванов',),\n",
       " ('Иван Даниилов',),\n",
       " ('Даниил Дмитриев',),\n",
       " ('Дмитрий Николаев',)]"
      ]
     },
     "execution_count": 168,
     "metadata": {},
     "output_type": "execute_result"
    }
   ],
   "source": [
    "select_sql('SELECT Name FROM Students') # вернуть столбец Name"
   ]
  },
  {
   "cell_type": "code",
   "execution_count": 169,
   "metadata": {},
   "outputs": [
    {
     "data": {
      "text/plain": [
       "[('Николай Иванов', datetime.date(2003, 3, 1)),\n",
       " ('Иван Даниилов', datetime.date(2002, 6, 10)),\n",
       " ('Даниил Дмитриев', datetime.date(2002, 5, 28)),\n",
       " ('Дмитрий Николаев', datetime.date(2003, 12, 1))]"
      ]
     },
     "execution_count": 169,
     "metadata": {},
     "output_type": "execute_result"
    }
   ],
   "source": [
    "select_sql('SELECT Name, BirthDate FROM Students')"
   ]
  },
  {
   "cell_type": "markdown",
   "metadata": {},
   "source": [
    "* Знак `*` означает \"все столбцы\""
   ]
  },
  {
   "cell_type": "code",
   "execution_count": 170,
   "metadata": {},
   "outputs": [
    {
     "data": {
      "text/plain": [
       "[(1, 'Николай Иванов', datetime.date(2003, 3, 1)),\n",
       " (2, 'Иван Даниилов', datetime.date(2002, 6, 10)),\n",
       " (3, 'Даниил Дмитриев', datetime.date(2002, 5, 28)),\n",
       " (4, 'Дмитрий Николаев', datetime.date(2003, 12, 1))]"
      ]
     },
     "execution_count": 170,
     "metadata": {},
     "output_type": "execute_result"
    }
   ],
   "source": [
    "select_sql('SELECT * FROM Students') # вернуть всё из таблицы Students"
   ]
  },
  {
   "cell_type": "markdown",
   "metadata": {},
   "source": [
    "* `WHERE` - это IF. Так можно писать фильтры. Доступны булевы функции типа `AND`, `OR`, `NOT`, `<`, `<=`, `=`."
   ]
  },
  {
   "cell_type": "code",
   "execution_count": 178,
   "metadata": {},
   "outputs": [
    {
     "data": {
      "text/plain": [
       "[(3, 'Даниил Дмитриев', datetime.date(2002, 5, 28)),\n",
       " (4, 'Дмитрий Николаев', datetime.date(2003, 12, 1))]"
      ]
     },
     "execution_count": 178,
     "metadata": {},
     "output_type": "execute_result"
    }
   ],
   "source": [
    "select_sql('SELECT * FROM Students WHERE StudentId > 2')"
   ]
  },
  {
   "cell_type": "code",
   "execution_count": 179,
   "metadata": {},
   "outputs": [
    {
     "data": {
      "text/plain": [
       "[(1, 'Николай Иванов', datetime.date(2003, 3, 1)),\n",
       " (4, 'Дмитрий Николаев', datetime.date(2003, 12, 1))]"
      ]
     },
     "execution_count": 179,
     "metadata": {},
     "output_type": "execute_result"
    }
   ],
   "source": [
    "select_sql(\"SELECT * FROM Students WHERE BirthDate > '2003.01.01'\")"
   ]
  },
  {
   "cell_type": "code",
   "execution_count": 180,
   "metadata": {},
   "outputs": [
    {
     "data": {
      "text/plain": [
       "[(4, 'Дмитрий Николаев', datetime.date(2003, 12, 1))]"
      ]
     },
     "execution_count": 180,
     "metadata": {},
     "output_type": "execute_result"
    }
   ],
   "source": [
    "select_sql(\"SELECT * FROM Students WHERE StudentId > 2 AND BirthDate > '2003.01.01'\")"
   ]
  },
  {
   "cell_type": "code",
   "execution_count": 181,
   "metadata": {},
   "outputs": [
    {
     "data": {
      "text/plain": [
       "[(3, 'Даниил Дмитриев', datetime.date(2002, 5, 28))]"
      ]
     },
     "execution_count": 181,
     "metadata": {},
     "output_type": "execute_result"
    }
   ],
   "source": [
    "select_sql(\"SELECT * FROM Students WHERE StudentId = 3\")"
   ]
  },
  {
   "cell_type": "markdown",
   "metadata": {},
   "source": [
    "* `ORDER BY` - это сортировка по столбцу (или нескольким столбцам). Можно и по убыванию."
   ]
  },
  {
   "cell_type": "code",
   "execution_count": 182,
   "metadata": {},
   "outputs": [
    {
     "data": {
      "text/plain": [
       "[(3, 'Даниил Дмитриев', datetime.date(2002, 5, 28)),\n",
       " (2, 'Иван Даниилов', datetime.date(2002, 6, 10)),\n",
       " (1, 'Николай Иванов', datetime.date(2003, 3, 1)),\n",
       " (4, 'Дмитрий Николаев', datetime.date(2003, 12, 1))]"
      ]
     },
     "execution_count": 182,
     "metadata": {},
     "output_type": "execute_result"
    }
   ],
   "source": [
    "select_sql('SELECT * FROM Students ORDER BY BirthDate')"
   ]
  },
  {
   "cell_type": "code",
   "execution_count": 183,
   "metadata": {},
   "outputs": [
    {
     "data": {
      "text/plain": [
       "[(3, 'Даниил Дмитриев', datetime.date(2002, 5, 28)),\n",
       " (4, 'Дмитрий Николаев', datetime.date(2003, 12, 1)),\n",
       " (2, 'Иван Даниилов', datetime.date(2002, 6, 10)),\n",
       " (1, 'Николай Иванов', datetime.date(2003, 3, 1))]"
      ]
     },
     "execution_count": 183,
     "metadata": {},
     "output_type": "execute_result"
    }
   ],
   "source": [
    "select_sql('SELECT * FROM Students ORDER BY Name')"
   ]
  },
  {
   "cell_type": "code",
   "execution_count": 185,
   "metadata": {},
   "outputs": [
    {
     "data": {
      "text/plain": [
       "[(1, 'Николай Иванов', datetime.date(2003, 3, 1)),\n",
       " (2, 'Иван Даниилов', datetime.date(2002, 6, 10)),\n",
       " (4, 'Дмитрий Николаев', datetime.date(2003, 12, 1)),\n",
       " (3, 'Даниил Дмитриев', datetime.date(2002, 5, 28))]"
      ]
     },
     "execution_count": 185,
     "metadata": {},
     "output_type": "execute_result"
    }
   ],
   "source": [
    "select_sql('SELECT * FROM Students ORDER BY Name DESC')"
   ]
  },
  {
   "cell_type": "markdown",
   "metadata": {},
   "source": [
    "### Несколько таблиц\n",
    "Давайте создадим еще две таблицы и посмотрим, как выглядят более сложные операции."
   ]
  },
  {
   "cell_type": "code",
   "execution_count": 187,
   "metadata": {},
   "outputs": [
    {
     "data": {
      "text/plain": [
       "True"
      ]
     },
     "execution_count": 187,
     "metadata": {},
     "output_type": "execute_result"
    }
   ],
   "source": [
    "make_sql('DROP TABLE IF EXISTS Classes;')\n",
    "make_sql('CREATE TABLE Classes(ClassId INT PRIMARY KEY, Name TEXT);')\n",
    "make_sql(\"INSERT INTO Classes VALUES(1, 'Математика');\")\n",
    "make_sql(\"INSERT INTO Classes VALUES(2, 'ML');\")\n",
    "make_sql(\"INSERT INTO Classes VALUES(3, 'Алгоритмы');\")"
   ]
  },
  {
   "cell_type": "code",
   "execution_count": 188,
   "metadata": {},
   "outputs": [
    {
     "data": {
      "text/plain": [
       "[(1, 'Математика'), (2, 'ML'), (3, 'Алгоритмы')]"
      ]
     },
     "execution_count": 188,
     "metadata": {},
     "output_type": "execute_result"
    }
   ],
   "source": [
    "select_sql('SELECT * FROM Classes')"
   ]
  },
  {
   "cell_type": "code",
   "execution_count": 189,
   "metadata": {},
   "outputs": [
    {
     "data": {
      "text/plain": [
       "True"
      ]
     },
     "execution_count": 189,
     "metadata": {},
     "output_type": "execute_result"
    }
   ],
   "source": [
    "make_sql('DROP TABLE IF EXISTS StudentClass;')\n",
    "make_sql('CREATE TABLE StudentClass(StudentId INT, ClassId INT);')\n",
    "make_sql(\"INSERT INTO StudentClass VALUES(1, 2);\")\n",
    "make_sql(\"INSERT INTO StudentClass VALUES(2, 1);\")\n",
    "make_sql(\"INSERT INTO StudentClass VALUES(2, 3);\")\n",
    "make_sql(\"INSERT INTO StudentClass VALUES(3, 1);\")\n",
    "make_sql(\"INSERT INTO StudentClass VALUES(3, 2);\")\n",
    "make_sql(\"INSERT INTO StudentClass VALUES(4, 2);\")"
   ]
  },
  {
   "cell_type": "code",
   "execution_count": 190,
   "metadata": {},
   "outputs": [
    {
     "data": {
      "text/plain": [
       "[(1, 2), (2, 1), (2, 3), (3, 1), (3, 2), (4, 2)]"
      ]
     },
     "execution_count": 190,
     "metadata": {},
     "output_type": "execute_result"
    }
   ],
   "source": [
    "select_sql('SELECT * FROM StudentClass')"
   ]
  },
  {
   "cell_type": "markdown",
   "metadata": {},
   "source": [
    "* `t1 JOIN t2 ON x` - операция объединения таблиц `t1` и `t2` по условию `x`. Это значит, что для всех пар строк, где первая взята из первой таблицы, а вторая - из второй, у которых выполняется условие `x`, мы кладем в результат новую строку, где лежат столбцы и из первой таблицы, и из второй."
   ]
  },
  {
   "cell_type": "code",
   "execution_count": 193,
   "metadata": {},
   "outputs": [
    {
     "data": {
      "text/plain": [
       "[(1, 'Николай Иванов', datetime.date(2003, 3, 1), 1, 2),\n",
       " (2, 'Иван Даниилов', datetime.date(2002, 6, 10), 2, 1),\n",
       " (2, 'Иван Даниилов', datetime.date(2002, 6, 10), 2, 3),\n",
       " (3, 'Даниил Дмитриев', datetime.date(2002, 5, 28), 3, 1),\n",
       " (3, 'Даниил Дмитриев', datetime.date(2002, 5, 28), 3, 2),\n",
       " (4, 'Дмитрий Николаев', datetime.date(2003, 12, 1), 4, 2)]"
      ]
     },
     "execution_count": 193,
     "metadata": {},
     "output_type": "execute_result"
    }
   ],
   "source": [
    "select_sql('SELECT * FROM Students JOIN StudentClass ON Students.StudentId = StudentClass.StudentId')"
   ]
  },
  {
   "cell_type": "markdown",
   "metadata": {},
   "source": [
    "Часто нужно сделать много `JOIN`-ов."
   ]
  },
  {
   "cell_type": "code",
   "execution_count": 197,
   "metadata": {},
   "outputs": [
    {
     "data": {
      "text/plain": [
       "[(1, 'Николай Иванов', datetime.date(2003, 3, 1), 1, 2, 2, 'ML'),\n",
       " (2, 'Иван Даниилов', datetime.date(2002, 6, 10), 2, 1, 1, 'Математика'),\n",
       " (2, 'Иван Даниилов', datetime.date(2002, 6, 10), 2, 3, 3, 'Алгоритмы'),\n",
       " (3, 'Даниил Дмитриев', datetime.date(2002, 5, 28), 3, 1, 1, 'Математика'),\n",
       " (3, 'Даниил Дмитриев', datetime.date(2002, 5, 28), 3, 2, 2, 'ML'),\n",
       " (4, 'Дмитрий Николаев', datetime.date(2003, 12, 1), 4, 2, 2, 'ML')]"
      ]
     },
     "execution_count": 197,
     "metadata": {},
     "output_type": "execute_result"
    }
   ],
   "source": [
    "select_sql('''\n",
    "SELECT * FROM\n",
    "    (Students\n",
    "     JOIN\n",
    "     StudentClass\n",
    "     ON Students.StudentId = StudentClass.StudentId)\n",
    "    JOIN\n",
    "    Classes\n",
    "    ON StudentClass.ClassId = Classes.ClassId\n",
    "''')"
   ]
  },
  {
   "cell_type": "markdown",
   "metadata": {},
   "source": [
    "Это довольно затратная операция, зато с ее помощью можно реализовать много разных естественных запросов.\n",
    "\n",
    "Например, **найти все классы, на которые ходит Иван Даниилов**."
   ]
  },
  {
   "cell_type": "code",
   "execution_count": 199,
   "metadata": {},
   "outputs": [
    {
     "data": {
      "text/plain": [
       "[('Математика',), ('Алгоритмы',)]"
      ]
     },
     "execution_count": 199,
     "metadata": {},
     "output_type": "execute_result"
    }
   ],
   "source": [
    "select_sql('''\n",
    "SELECT Classes.Name FROM\n",
    "    (Students\n",
    "     JOIN\n",
    "     StudentClass\n",
    "     ON Students.StudentId = StudentClass.StudentId)\n",
    "    JOIN\n",
    "    Classes\n",
    "    ON StudentClass.ClassId = Classes.ClassId\n",
    "    WHERE Students.Name = 'Иван Даниилов'\n",
    "''')"
   ]
  },
  {
   "cell_type": "markdown",
   "metadata": {},
   "source": [
    "Попробуйте сами реализовать несколько запросов:\n",
    "\n",
    "**Найти имена всех школьников, которые ходят на ML**."
   ]
  },
  {
   "cell_type": "code",
   "execution_count": null,
   "metadata": {},
   "outputs": [],
   "source": []
  },
  {
   "cell_type": "markdown",
   "metadata": {},
   "source": [
    "**Найти всех школьников, которые ходят в один класс с Иваном Данииловым**."
   ]
  },
  {
   "cell_type": "code",
   "execution_count": null,
   "metadata": {},
   "outputs": [],
   "source": []
  },
  {
   "cell_type": "markdown",
   "metadata": {},
   "source": [
    "* `GROUP BY key` - сгруппировать строки по столбцу `key`. Это особая магия, которая превращает запрос в совсем непривычную вещь. Если использовать группировку, то в сам `SELECT` нельзя просто так писать названия столбцов - это не имеет смысла. Туда надо писать функции агреггирования значений столбцов - например, `COUNT` или `MAX`.\n",
    "\n",
    "Для каждого разного значения столбца `key` найдутся все строчки с этим значением, и по ним посчитается эта агрегированная функция - удобно для подсчета статистик.\n",
    "\n",
    "Проще показать на примере:"
   ]
  },
  {
   "cell_type": "code",
   "execution_count": 201,
   "metadata": {},
   "outputs": [
    {
     "data": {
      "text/plain": [
       "[(1, 2), (2, 1), (2, 3), (3, 1), (3, 2), (4, 2)]"
      ]
     },
     "execution_count": 201,
     "metadata": {},
     "output_type": "execute_result"
    }
   ],
   "source": [
    "# обычная таблица\n",
    "select_sql('''\n",
    "SELECT StudentId, ClassId\n",
    "FROM StudentClass\n",
    "''')"
   ]
  },
  {
   "cell_type": "code",
   "execution_count": 206,
   "metadata": {},
   "outputs": [
    {
     "data": {
      "text/plain": [
       "[(2, 3), (1, 2), (3, 1)]"
      ]
     },
     "execution_count": 206,
     "metadata": {},
     "output_type": "execute_result"
    }
   ],
   "source": [
    "# считаем популярность разных классов\n",
    "\n",
    "select_sql('''\n",
    "SELECT ClassId, Count(*) as popularity\n",
    "FROM StudentClass\n",
    "GROUP BY ClassId\n",
    "ORDER BY popularity DESC\n",
    "''')"
   ]
  },
  {
   "cell_type": "markdown",
   "metadata": {},
   "source": [
    "Попробуйте сами реализовать несколько запросов:\n",
    "\n",
    "**Выведите для каждого класса его название и популярность среди студентов**."
   ]
  },
  {
   "cell_type": "code",
   "execution_count": null,
   "metadata": {},
   "outputs": [],
   "source": []
  },
  {
   "cell_type": "markdown",
   "metadata": {},
   "source": [
    "**Выведите для каждого класса его название и самого старшего студента, который туда ходит**."
   ]
  },
  {
   "cell_type": "code",
   "execution_count": null,
   "metadata": {},
   "outputs": [],
   "source": []
  },
  {
   "cell_type": "markdown",
   "metadata": {},
   "source": [
    "**Выведите общее число студентов**."
   ]
  },
  {
   "cell_type": "code",
   "execution_count": null,
   "metadata": {},
   "outputs": [],
   "source": []
  },
  {
   "cell_type": "markdown",
   "metadata": {},
   "source": [
    "## Как изучать SQL\n",
    "\n",
    "Как и у регулярных выражений, у этого языка есть куча сайтов, где его можно изучить в интерактивном режиме.\n",
    "\n",
    "Для детей: [красивый сайт, простые запросами, простая база, в запросе надо просто заполнить пропуски](https://www.w3schools.com/sql/sql_exercises.asp).\n",
    "\n",
    "Для подростков: [красивый сайт, запросы усложняются, интересная база, запрос в свободной форме](https://sqlbolt.com/lesson/select_queries_introduction) (рекомендую эту посмотреть сначала).\n",
    "\n",
    "Для взрослых: [некрасивый сайт, запросы быстро усложняются, скучная база из огромного числа таблиц, запрос в свободной форме](http://www.sql-ex.ru)."
   ]
  },
  {
   "cell_type": "markdown",
   "metadata": {},
   "source": [
    "## Пишем оболочку над БД на питоне\n",
    "\n",
    "Не хочется сильно много где в питоновском коде использовать кусочки SQL. Лучше всего - для каждого разного использования базы написать одну функцию, которая будет делать SQL-запрос, и везде в коде использовать именно ее."
   ]
  },
  {
   "cell_type": "code",
   "execution_count": 211,
   "metadata": {},
   "outputs": [],
   "source": [
    "# Например, функция, которая выдает всю информацию по человеку по его id-нику.\n",
    "\n",
    "def get_student_by_id(student_id):\n",
    "    student = select_sql('''SELECT * FROM Students WHERE StudentId = {}'''.format(student_id))[0]\n",
    "    return {\n",
    "        'id': student[0],\n",
    "        'name': student[1],\n",
    "        'birth_date': student[2]\n",
    "    }"
   ]
  },
  {
   "cell_type": "code",
   "execution_count": 212,
   "metadata": {},
   "outputs": [
    {
     "data": {
      "text/plain": [
       "{'birth_date': datetime.date(2002, 6, 10), 'id': 2, 'name': 'Иван Даниилов'}"
      ]
     },
     "execution_count": 212,
     "metadata": {},
     "output_type": "execute_result"
    }
   ],
   "source": [
    "get_student_by_id(2)"
   ]
  },
  {
   "cell_type": "markdown",
   "metadata": {},
   "source": [
    "Согласитесь, что такими функциями пользоваться гораздо удобнее?\n",
    "\n",
    "**Напишите функцию, которая возвращает по названию класса список имен всех, кто ходит на него.**"
   ]
  },
  {
   "cell_type": "code",
   "execution_count": 213,
   "metadata": {},
   "outputs": [],
   "source": [
    "def get_students_by_class_name(class_name):\n",
    "    pass"
   ]
  },
  {
   "cell_type": "code",
   "execution_count": 214,
   "metadata": {},
   "outputs": [],
   "source": [
    "get_students_by_class_name('ML')"
   ]
  },
  {
   "cell_type": "markdown",
   "metadata": {},
   "source": [
    "## SQL-инъекции\n",
    "![](https://imgs.xkcd.com/comics/exploits_of_a_mom.png)\n",
    "\n",
    "В том способе писать оболочки, который я написал выше - есть маленький минус. Вы строите SQL запрос тупо подставив в запрос подстроку. Никто не гарантириует вам, что строка - это честное число. Представьте, что злоумешленнику удалось послать какой-то запрос на сервер и он запустил вот такую функцию:"
   ]
  },
  {
   "cell_type": "code",
   "execution_count": 215,
   "metadata": {},
   "outputs": [
    {
     "name": "stdout",
     "output_type": "stream",
     "text": [
      "Error in DataBase: no results to fetch\n"
     ]
    },
    {
     "ename": "TypeError",
     "evalue": "'bool' object is not subscriptable",
     "output_type": "error",
     "traceback": [
      "\u001b[0;31m---------------------------------------------------------------------------\u001b[0m",
      "\u001b[0;31mTypeError\u001b[0m                                 Traceback (most recent call last)",
      "\u001b[0;32m<ipython-input-215-6b0bf0290b14>\u001b[0m in \u001b[0;36m<module>\u001b[0;34m()\u001b[0m\n\u001b[1;32m      1\u001b[0m \u001b[0mstudent_id\u001b[0m \u001b[0;34m=\u001b[0m \u001b[0;34m'1; DROP TABLE Students;'\u001b[0m\u001b[0;34m\u001b[0m\u001b[0;34m\u001b[0m\u001b[0m\n\u001b[1;32m      2\u001b[0m \u001b[0;34m\u001b[0m\u001b[0m\n\u001b[0;32m----> 3\u001b[0;31m \u001b[0mget_student_by_id\u001b[0m\u001b[0;34m(\u001b[0m\u001b[0mstudent_id\u001b[0m\u001b[0;34m)\u001b[0m\u001b[0;34m\u001b[0m\u001b[0;34m\u001b[0m\u001b[0m\n\u001b[0m",
      "\u001b[0;32m<ipython-input-211-1ce1c2ac044f>\u001b[0m in \u001b[0;36mget_student_by_id\u001b[0;34m(student_id)\u001b[0m\n\u001b[1;32m      2\u001b[0m \u001b[0;34m\u001b[0m\u001b[0m\n\u001b[1;32m      3\u001b[0m \u001b[0;32mdef\u001b[0m \u001b[0mget_student_by_id\u001b[0m\u001b[0;34m(\u001b[0m\u001b[0mstudent_id\u001b[0m\u001b[0;34m)\u001b[0m\u001b[0;34m:\u001b[0m\u001b[0;34m\u001b[0m\u001b[0;34m\u001b[0m\u001b[0m\n\u001b[0;32m----> 4\u001b[0;31m     \u001b[0mstudent\u001b[0m \u001b[0;34m=\u001b[0m \u001b[0mselect_sql\u001b[0m\u001b[0;34m(\u001b[0m\u001b[0;34m'''SELECT * FROM Students WHERE StudentId = {}'''\u001b[0m\u001b[0;34m.\u001b[0m\u001b[0mformat\u001b[0m\u001b[0;34m(\u001b[0m\u001b[0mstudent_id\u001b[0m\u001b[0;34m)\u001b[0m\u001b[0;34m)\u001b[0m\u001b[0;34m[\u001b[0m\u001b[0;36m0\u001b[0m\u001b[0;34m]\u001b[0m\u001b[0;34m\u001b[0m\u001b[0;34m\u001b[0m\u001b[0m\n\u001b[0m\u001b[1;32m      5\u001b[0m     return {\n\u001b[1;32m      6\u001b[0m         \u001b[0;34m'id'\u001b[0m\u001b[0;34m:\u001b[0m \u001b[0mstudent\u001b[0m\u001b[0;34m[\u001b[0m\u001b[0;36m0\u001b[0m\u001b[0;34m]\u001b[0m\u001b[0;34m,\u001b[0m\u001b[0;34m\u001b[0m\u001b[0;34m\u001b[0m\u001b[0m\n",
      "\u001b[0;31mTypeError\u001b[0m: 'bool' object is not subscriptable"
     ]
    }
   ],
   "source": [
    "student_id = '1; DROP TABLE Students;'\n",
    "\n",
    "get_student_by_id(student_id)"
   ]
  },
  {
   "cell_type": "code",
   "execution_count": 216,
   "metadata": {},
   "outputs": [
    {
     "name": "stdout",
     "output_type": "stream",
     "text": [
      "Error in DataBase: relation \"students\" does not exist\n",
      "LINE 1: SELECT * FROM Students\n",
      "                      ^\n",
      "\n"
     ]
    },
    {
     "data": {
      "text/plain": [
       "False"
      ]
     },
     "execution_count": 216,
     "metadata": {},
     "output_type": "execute_result"
    }
   ],
   "source": [
    "select_sql('''SELECT * FROM Students''')"
   ]
  },
  {
   "cell_type": "markdown",
   "metadata": {},
   "source": [
    "Oops..."
   ]
  },
  {
   "cell_type": "markdown",
   "metadata": {},
   "source": [
    "![](https://pp.userapi.com/c840122/v840122354/8c891/M91k-AjvA6s.jpg)\n",
    "И да, кто-то в Польше все такие зарегистрировал компанию с названием-SQL-инъекцией."
   ]
  },
  {
   "cell_type": "markdown",
   "metadata": {},
   "source": [
    "Есть много способов бороться с SQL-инъекциями:\n",
    "* не бороться и надеяться на то, что у вас нет места, где вы подставляете в SQL что-то, к чему есть доступ у пользователей = не работает, так как пользователи всегда найдут доступ куда не надо\n",
    "* в функциях проверять, что student_id - это число, а не строка = прекрасно работает кроме случаев, когда вы подставляете строку (например, имя пользователя)\n",
    "* строки подставлять внутрь кавычек, запретить строки, содержащие кавычки = с именами нормально, а что делать в тексте с кавычками\n",
    "* использовать экранирование - тогда даже если внутри имени студента есть тот же тип кавычек, что и у вас, то они не будут считаться кавычками (перед ними появится знак '\\' или что-нибудь типа такого)."
   ]
  },
  {
   "cell_type": "markdown",
   "metadata": {},
   "source": [
    "## P. S. Или все-таки лучше Excel?\n",
    "\n",
    "![](https://imgs.xkcd.com/comics/spreadsheets.png)"
   ]
  }
 ],
 "metadata": {
  "kernelspec": {
   "display_name": "Python 3",
   "language": "python",
   "name": "python3"
  },
  "language_info": {
   "codemirror_mode": {
    "name": "ipython",
    "version": 3
   },
   "file_extension": ".py",
   "mimetype": "text/x-python",
   "name": "python",
   "nbconvert_exporter": "python",
   "pygments_lexer": "ipython3",
   "version": "3.6.7"
  }
 },
 "nbformat": 4,
 "nbformat_minor": 2
}
