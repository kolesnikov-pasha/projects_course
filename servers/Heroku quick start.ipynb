{
 "cells": [
  {
   "cell_type": "markdown",
   "metadata": {},
   "source": [
    "# Как поднять своего бота или сайт на Heroku"
   ]
  },
  {
   "cell_type": "markdown",
   "metadata": {},
   "source": [
    "### Шо це хероку"
   ]
  },
  {
   "cell_type": "markdown",
   "metadata": {},
   "source": [
    "![heroku](https://upload.wikimedia.org/wikipedia/commons/8/89/Logo_di_Heroku.png)\n",
    "\n",
    "Что такое Heroku хорошо написано в первом предложении о нем в <a href='https://ru.wikipedia.org/wiki/Heroku'>википедии</a>.\n",
    "Зачем Heroku нам? Затем, что мы можем поднять на нем свой проект за буквально 5 минут (может 10, если тупить), а потом перезаливать за 3 команды (или секунд 30, если говорить про время). Все заботы по сборке проекта heroku берет на себя."
   ]
  },
  {
   "cell_type": "markdown",
   "metadata": {},
   "source": [
    "### Окей, я понял что это. Как пользоваться?"
   ]
  },
  {
   "cell_type": "markdown",
   "metadata": {},
   "source": [
    "#### Подготовительные действия"
   ]
  },
  {
   "cell_type": "markdown",
   "metadata": {},
   "source": [
    "Зарегистрируйтесь на сайте <a href='https://signup.heroku.com/login?redirect-url=https%3A%2F%2Fid.heroku.com%2Foauth%2Fauthorize%3Fclient_id%3D1e7d4c52-6008-4a73-b132-09abb5d04859%26response_type%3Dcode%26scope%3Dglobal%252Cplatform%26state%3DSFMyNTY.g3QAAAACZAAEZGF0YW0AAAAxaHR0cHM6Ly9kYXNoYm9hcmQuaGVyb2t1LmNvbS9hdXRoL2hlcm9rdS9jYWxsYmFja2QABnNpZ25lZG4GALOKKNxrAQ.qhtoQfvGcQfUXCHWVkHpbqelTQFJyHTMbHyWr9jM294'>Heroku</a>\n",
    "\n",
    "![sign up](https://pp.userapi.com/c849228/v849228599/1d7f82/kwdexUvDP_k.jpg)"
   ]
  },
  {
   "cell_type": "markdown",
   "metadata": {},
   "source": [
    "Теперь <a href='https://dashboard.heroku.com/new-app'>создаем</a> новое приложение.\n",
    "\n",
    "![create app](https://pp.userapi.com/c849228/v849228599/1d7fac/ALd0YOVzDmY.jpg)"
   ]
  },
  {
   "cell_type": "markdown",
   "metadata": {},
   "source": [
    "Для дальнейшей работы понадобится две вещи: <a href='https://devcenter.heroku.com/articles/getting-started-with-python#set-up'>Heroku Command Line Interface</a> и <a href='https://git-scm.com/book/en/v2/Getting-Started-Installing-Git'>Git</a>\n",
    "\n",
    "Установите их."
   ]
  },
  {
   "cell_type": "markdown",
   "metadata": {},
   "source": [
    "#### Сделаем из проекта то, что может скушать Heroku"
   ]
  },
  {
   "cell_type": "markdown",
   "metadata": {},
   "source": [
    "В папке с проектом нужно сделать следующее (пока что можете взять проект из <a href='https://github.com/olpyhn/projects_course'>нашего репозитория</a>, лежит в папке heroku_bot, не забудьте в файле main.py вставить токен вашего бота):\n",
    "\n",
    "1) создать файл requirements.txt в котором перечислить все библиотеки, необходимые для работы вашего сайта или бота\n",
    "\n",
    "2) создать файл Procfile (без расширения), в нем нужно указать Heroku, какой язык мы используем и какой файл нужно выполнять. Для нашего бота это будет выглядеть так:\n",
    "\n",
    "`worker: python main.py $PORT`\n",
    "\n",
    "3) написать бота в файле main.py\n",
    "\n",
    "Охапка дров, проект готов.\n",
    "![ohapka drov](https://cs8.pikabu.ru/images/previews_comm/2016-02_4/1455694710174333901.jpg)"
   ]
  },
  {
   "cell_type": "markdown",
   "metadata": {},
   "source": [
    "#### Деплоим проект"
   ]
  },
  {
   "cell_type": "markdown",
   "metadata": {},
   "source": [
    "А теперь парочкой команд заливаем проект на Heroku. \n",
    "\n",
    "Делаем тык в папке с проектом правой кнопкой мышки, нажимаем git bash here и вводим команды:\n",
    "\n",
    "`heroku login` //жмем enter и авторизуемся на heroku снова\n",
    "\n",
    "`git init` //создаем репозиторий в папке с проектом\n",
    "\n",
    "`heroku git:remote -a `название вашего проекта на heroku (у меня это pybot-example)` ` //подключаем репозиторий к проекту на heroku\n",
    "\n",
    "`git add *`\n",
    "\n",
    "`git commit -m 'name of commit'`\n",
    "\n",
    "`git push heroku master` //предыдущими тремя строчками заливаем проект в ваш удаленный репозиторий на heroku"
   ]
  },
  {
   "cell_type": "markdown",
   "metadata": {},
   "source": [
    "Ну и последние штрихи:\n",
    "\n",
    "1) Открываем проект в браузере\n",
    "\n",
    "2) Заходим во вкладку Recourses\n",
    "\n",
    "3) Нажимаем на кнопочку Edit (она в виде карандашика), переключаете switch в активное состояние и нажимаете confirm\n",
    "\n",
    "4) Пишите боту и радуйтесь, что все прошло успешно😎😎😎\n",
    "![turn on](https://pp.userapi.com/c849228/v849228157/1dc4a4/X-SeYTiMYCo.jpg)"
   ]
  },
  {
   "cell_type": "markdown",
   "metadata": {},
   "source": [
    "![done](https://cs7.pikabu.ru/images/previews_comm/2018-04_4/1524225146142571181.jpg)"
   ]
  }
 ],
 "metadata": {
  "kernelspec": {
   "display_name": "Python 3",
   "language": "python",
   "name": "python3"
  },
  "language_info": {
   "codemirror_mode": {
    "name": "ipython",
    "version": 3
   },
   "file_extension": ".py",
   "mimetype": "text/x-python",
   "name": "python",
   "nbconvert_exporter": "python",
   "pygments_lexer": "ipython3",
   "version": "3.7.3"
  }
 },
 "nbformat": 4,
 "nbformat_minor": 2
}
