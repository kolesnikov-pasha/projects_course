{
 "cells": [
  {
   "cell_type": "markdown",
   "metadata": {},
   "source": [
    "# Делаем так, чтобы работать с облаком было удобно и приятно\n",
    "\n",
    "1.  Идем на [https://console.cloud.yandex.ru](https://console.cloud.yandex.ru/)\n",
    "![Yandex.Cloud](Imgs/Cloud_Logo.png)\n",
    "    \n",
    "2.  Создаем платежный аккаунт\n",
    "    \n",
    "3.  Переходим в раздел Compute CLoud\n",
    "    \n",
    "4.  Нажимаем создать ВМ\n",
    "    \n",
    "5.  Вводим имя\n",
    "    \n",
    "6.  Зону доступности не меняем\n",
    "    \n",
    "7.  Выбираем Ubuntu 16\n",
    "    \n",
    "8.  Все оставляем по дефолту\n",
    "    \n",
    "9.  Устанавливаем логин\n",
    "    \n",
    "10.  в командной строке выполняем\n",
    "    \n",
    "```bash\n",
    "    ssh-keygen\n",
    "    \n",
    "```\n",
    "    \n",
    "11.  Выбираем имя файла для хранения ключа\n",
    "        \n",
    "12.  Прописываем\n",
    "        \n",
    "```bash\n",
    "cat <выбранное имя файла>.pub\n",
    "        \n",
    "```\n",
    "        \n",
    "\n",
    "13. Копируем публиныйы ключ и вставляем в поле **SSH-ключ**\n",
    "\n",
    "14. Кликаем на созданную машину\n",
    "\n",
    "15. Во вкладке Сеть меняем IPv4 на статический\n",
    "\n",
    "16. Копируем адрес и отправляем боту @digitalgodbot\n",
    "\n",
    "17. Получем днс вида **kir.dg02.ru**\n",
    "\n",
    "18. Подключаемся по ssh командой\n",
    "\n",
    "```bash\n",
    "ssh <имяпользователя из  пункта 9>@dns\n",
    "sudo curl -s https://raw.githubusercontent.com/rockstat/bootstrap/master/bin/ycloud_vdb | sudo bash -\n",
    "\n",
    "sudo curl -s https://raw.githubusercontent.com/rockstat/bootstrap/master/bin/kickstart | sudo -E bash -\n",
    "```\n",
    "\n",
    "19.  Устанавливаем логин и пароль для RockStat\n",
    "\n",
    "![](Imgs/Rockstat.png)\n",
    "    \n",
    "20.  Теперь можно удобно работать с сервером просто введя в браузере app.вашднс( По дефолту там есть юпитер ноутюук, удобный менеджер баз данных, мониторинг процессов, инстумент для быстрого деплоя бота)"
   ]
  },
  {
   "cell_type": "markdown",
   "metadata": {},
   "source": [
    "Теперь можно получить доступ к виртуальной машине прямо из браузера с любого устройства, контролировать загруженность машины и детектировать проблемы."
   ]
  },
  {
   "cell_type": "code",
   "execution_count": null,
   "metadata": {},
   "outputs": [],
   "source": []
  }
 ],
 "metadata": {
  "kernelspec": {
   "display_name": "Python 3",
   "language": "python",
   "name": "python3"
  },
  "language_info": {
   "codemirror_mode": {
    "name": "ipython",
    "version": 3
   },
   "file_extension": ".py",
   "mimetype": "text/x-python",
   "name": "python",
   "nbconvert_exporter": "python",
   "pygments_lexer": "ipython3",
   "version": "3.7.3"
  }
 },
 "nbformat": 4,
 "nbformat_minor": 2
}
