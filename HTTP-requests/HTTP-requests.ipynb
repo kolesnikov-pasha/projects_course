{
 "cells": [
  {
   "cell_type": "markdown",
   "metadata": {},
   "source": [
    "# Занятие 1: HTTP-запросы, JSON, API.\n",
    "\n",
    "## HTTP запросы"
   ]
  },
  {
   "cell_type": "markdown",
   "metadata": {},
   "source": [
    "### Что такое HTTP запросы?\n",
    "![http](https://httpwg.org/asset/http.svg)"
   ]
  },
  {
   "cell_type": "markdown",
   "metadata": {},
   "source": [
    "Протокол HTTP предназначен для передачи данных. Именно он используется браузером, если нужно посмотреть мемы, видосики и все такое. Мы же можем его использовать чтобы получить или отправить какие-то данные с или на сервер."
   ]
  },
  {
   "cell_type": "markdown",
   "metadata": {},
   "source": [
    "Обмен сообщениями между сервером и клиентом проиходит по принципу \"запрос-ответ\". Клиент совершает некий запрос и получает на него ответ сервера."
   ]
  },
  {
   "cell_type": "markdown",
   "metadata": {},
   "source": [
    "Структура HTTP запроса:\n",
    "\n",
    "* Строка запроса – указывает метод передачи, URL-адрес, к которому нужно обратиться и версию протокола HTTP.\n",
    "* Заголовки – описывают тело сообщений, передают различные параметры и др. сведения и информацию.\n",
    "* Тут пустая строка в качестве разделителя.\n",
    "* Тело сообщения  — это сами данные, которые передаются в запросе.  Тело сообщения – это необязательный параметр и может отсутствовать"
   ]
  },
  {
   "cell_type": "markdown",
   "metadata": {},
   "source": [
    "Например, если мы хотим получить статью википеди про http, то наш браузер сделает следующий запрос:\n",
    "    \n",
    "    GET /wiki/HTTP HTTP/1.1\n",
    "    Host: ru.wikipedia.org\n",
    "    User-Agent: Mozilla/5.0 (X11; U; Linux i686; ru; rv:1.9b5) Gecko/2008050509 Firefox/3.0b5\n",
    "    Accept: text/html\n",
    "    Connection: close\n",
    "    (пустая строка)  \n",
    "        \n",
    "Первые 2 строки это строка запроса, все оставшиеся - заголовки. В этом запросе отсутствует тело.\n",
    "Ответ на этот запрос будет следующий:\n",
    "\n",
    "    HTTP/1.1 200 OK\n",
    "    Date: Wed, 11 Feb 2009 11:20:59 GMT\n",
    "    Server: Apache\n",
    "    X-Powered-By: PHP/5.2.4-2ubuntu5wm1\n",
    "    Last-Modified: Wed, 11 Feb 2009 11:20:59 GMT\n",
    "    Content-Language: ru\n",
    "    Content-Type: text/html; charset=utf-8\n",
    "    Content-Length: 1234\n",
    "    Connection: close\n",
    "    (пустая строка)\n",
    "    (запрошенная страница в HTML)"
   ]
  },
  {
   "cell_type": "markdown",
   "metadata": {},
   "source": [
    "### На питоне"
   ]
  },
  {
   "cell_type": "markdown",
   "metadata": {},
   "source": [
    "На мой взгляд, все, что сверху, выглядит, мягко говоря, сложновато.\n",
    "\n",
    "Во-первых, вместо всего этого можно писать только URL.\n",
    "\n",
    "Во-вторых, на питоне такие запросы будут выглядеть гораздо более удобно."
   ]
  },
  {
   "cell_type": "code",
   "execution_count": null,
   "metadata": {},
   "outputs": [],
   "source": [
    "# импортируем библиотеку, с помощью которой будем делать запросы\n",
    "# если у вас нет библиотеки, установите её вот этой строчкой:\n",
    "# !pip install requests\n",
    "import requests "
   ]
  },
  {
   "cell_type": "code",
   "execution_count": null,
   "metadata": {},
   "outputs": [],
   "source": [
    "# GET-запрос просто получает html-код странички\n",
    "\n",
    "responce = requests.get(url=\"http://sereja.me\")\n",
    "print(responce.text)"
   ]
  },
  {
   "cell_type": "code",
   "execution_count": null,
   "metadata": {},
   "outputs": [],
   "source": [
    "print(responce.status_code)"
   ]
  },
  {
   "cell_type": "markdown",
   "metadata": {},
   "source": [
    "Код 200 - это редкий случай, когда запрос произошел успешно. Этот код может быть равен [разным](https://http.cat/) значениям. Например, 404 - это когда запрос не успешен из-за отсутствия запрашиваемого ресурса."
   ]
  },
  {
   "cell_type": "markdown",
   "metadata": {},
   "source": [
    "### Еще примеры\n",
    "Напишем функцию, которая принимает дату, и скачивает сырую страницу, на которой есть все футбольные матчи в этот день."
   ]
  },
  {
   "cell_type": "code",
   "execution_count": null,
   "metadata": {},
   "outputs": [],
   "source": [
    "def extract_footbal_matches_html(year, month, day):\n",
    "    url = 'https://www.sports.ru/football/match/{}-{}-{}/'.format(year, month, day)\n",
    "    response = requests.get(url)\n",
    "    return response.text\n",
    "\n",
    "extract_footbal_matches_html(2009, 4, 21)"
   ]
  },
  {
   "cell_type": "markdown",
   "metadata": {},
   "source": [
    "Напишем функцию, которая получает страничку с информацией про место, к которому привязано IP."
   ]
  },
  {
   "cell_type": "code",
   "execution_count": null,
   "metadata": {},
   "outputs": [],
   "source": [
    "def extract_by_IP_html(IP):\n",
    "    url = 'https://ipapi.co/{}/'.format(IP)\n",
    "    response = requests.get(url)\n",
    "    return response.text\n",
    "\n",
    "extract_by_IP_html('91.134.227.240')"
   ]
  },
  {
   "cell_type": "markdown",
   "metadata": {},
   "source": [
    "### Попробуйте сами\n",
    "Выберите сайт и посмотрите как он выглядит в виде html-кода"
   ]
  },
  {
   "cell_type": "code",
   "execution_count": null,
   "metadata": {},
   "outputs": [],
   "source": []
  },
  {
   "cell_type": "markdown",
   "metadata": {},
   "source": [
    "### HTTP методы\n",
    "\n",
    "![get vs post](https://i.ibb.co/mvPrFPs/getpost.jpg)\n",
    "\n",
    "Чаще всего запрос - это метод GET или метод POST. Обычно GET - это запрос без изменения данных, а POST - это запрос с изменениями.\n",
    "\n",
    "Мы пока делали только GET-запросы, именно они скачивают код страницы (на самом деле просто ваш браузер как код страницы воспринимает ровно то, что вернул GET-запрос).\n"
   ]
  },
  {
   "cell_type": "markdown",
   "metadata": {},
   "source": [
    "### POST\n",
    "Применяется для передачи пользовательских данных заданному ресурсу. Например, в блогах посетители обычно могут вводить свои комментарии к записям в HTML-форму, после чего они передаются серверу методом POST и он помещает их на страницу. При этом передаваемые данные (в примере с блогами — текст комментария) включаются в тело запроса. Аналогично с помощью метода POST обычно загружаются файлы на сервер.\n",
    "\n",
    "Часто пост-запрос просто заполняет форму на сайте. Посмотрим на пример пост-запроса, который заполняют форму авторизации на сайте informatics, например."
   ]
  },
  {
   "cell_type": "code",
   "execution_count": null,
   "metadata": {},
   "outputs": [],
   "source": [
    "# сделать POST запрос с помощью библиотеки requests тоже просто\n",
    "\n",
    "# вставьте сюда свои логин и пароль\n",
    "DATA = {'username' : '...',\n",
    "        'password' : '...'}\n",
    "\n",
    "url = \"https://informatics.mccme.ru/login/index.php\"\n",
    "r = requests.post(url, DATA)\n",
    "html = r.text\n",
    "\n",
    "print(html)"
   ]
  },
  {
   "cell_type": "markdown",
   "metadata": {},
   "source": [
    "## JSON вместо HTML\n",
    "\n",
    "![JSON Statham](https://pics.me.me/json-statha-meanwhile-43613192.png)\n",
    "\n",
    "Заметьте, что если бы вы хотели извлечь все матчи из sports.ru за какой-то день, то вам пришлось бы сидеть и парсить огромный HTML-код, то есть научиться извлекать полезную и нужную вам информацию (список матчей, их времени, участников и итогог счета, например). Иногда приходится так делать, и этим мы скорее всего и займемся на следующем занятии.\n",
    "\n",
    "Но многие сервисы знают, что ими пользуются не только пользователи через интерфейс, но и скрипты. И упрощают для них работу. А именно, создают специальный формат URL, на запрос по которому вместо html-кода выдается строка с данными в удобном формате, которую не надо сложно парсить.\n",
    "\n",
    "Например, сайт ipapi.co называется так не случайно. Он умеет не только красиво показывать данные в интерфейсе по адресу [ipapi.co/91.134.227.240/](http://ipapi.co/91.134.227.240/), но и возвращать только полезную информацию в формате JSON по адресу [ipapi.co/91.134.227.240/json](https://ipapi.co/91.134.227.240/json)"
   ]
  },
  {
   "cell_type": "code",
   "execution_count": null,
   "metadata": {},
   "outputs": [],
   "source": [
    "def extract_by_ip_json(ip):\n",
    "    url = 'https://ipapi.co/{}/json'.format(ip)\n",
    "    response = requests.get(url)\n",
    "    return response.text\n",
    "\n",
    "print(extract_by_ip_json('91.134.227.240'))"
   ]
  },
  {
   "cell_type": "markdown",
   "metadata": {},
   "source": [
    "Согласитесь, что это гораздо более легко обрабатываемая строчка, чем огромный html-код :) Этот формат называется и называется JSON."
   ]
  },
  {
   "cell_type": "markdown",
   "metadata": {},
   "source": [
    "### Более подробно про JSON\n",
    "[JSON](https://ru.wikipedia.org/wiki/JSON) - это очень удобный универсальный формат данных, состоящий из списков, словарей, строчек, чисел, true, false и null-ов. Причем списки и словари могут быть любой вложенности: это может быть словарь, где значениями являются другие словари, в некоторых из которых значениями являются списки словарей и так далее.\n",
    "\n",
    "Перевод питоновских словарей/списков в json и обратно умеет делать библиотека json."
   ]
  },
  {
   "cell_type": "code",
   "execution_count": null,
   "metadata": {},
   "outputs": [],
   "source": [
    "# если у вас нет библиотеки, установите её вот этой строчкой:\n",
    "# !pip install json\n",
    "import json"
   ]
  },
  {
   "cell_type": "markdown",
   "metadata": {},
   "source": [
    "### Функция json.loads\n",
    "loads = load string, принимает на вход строку, возвращает данные"
   ]
  },
  {
   "cell_type": "code",
   "execution_count": null,
   "metadata": {},
   "outputs": [],
   "source": [
    "s = extract_by_ip_json('91.134.227.240')\n",
    "data = json.loads(s)\n",
    "data"
   ]
  },
  {
   "cell_type": "code",
   "execution_count": null,
   "metadata": {},
   "outputs": [],
   "source": [
    "# это обычный словарь\n",
    "print(data['longitude'], data['latitude'])\n",
    "print(data['country_name'])\n",
    "print(data['city'])"
   ]
  },
  {
   "cell_type": "markdown",
   "metadata": {},
   "source": [
    "### Функция json.dumps\n",
    "dumps = dump string, принимает на вход данные, возращает строку"
   ]
  },
  {
   "cell_type": "code",
   "execution_count": null,
   "metadata": {},
   "outputs": [],
   "source": [
    "s = json.dumps(data)\n",
    "print(s)"
   ]
  },
  {
   "cell_type": "markdown",
   "metadata": {},
   "source": [
    "### Работа с файлами\n",
    "Те же функции, но без s (то есть load и dump) - вместо превращения из/в строку считывают/записывают из файла."
   ]
  },
  {
   "cell_type": "code",
   "execution_count": null,
   "metadata": {},
   "outputs": [],
   "source": [
    "# dump\n",
    "with open('ip.json', 'w') as f:\n",
    "    json.dump(data, f)"
   ]
  },
  {
   "cell_type": "code",
   "execution_count": null,
   "metadata": {},
   "outputs": [],
   "source": [
    "# load\n",
    "with open('ip.json', 'r') as f:\n",
    "    data = json.load(f)\n",
    "print(data['region'])"
   ]
  },
  {
   "cell_type": "markdown",
   "metadata": {},
   "source": [
    "### Примеры\n",
    "Давайте напишем функцию, которая по IP возвращает название города."
   ]
  },
  {
   "cell_type": "code",
   "execution_count": null,
   "metadata": {},
   "outputs": [],
   "source": [
    "# Первый способ\n",
    "# Сделаем то же самое\n",
    "\n",
    "def extract_by_ip_json(ip):\n",
    "    url = 'https://ipapi.co/{}/json'.format(ip)\n",
    "    response = requests.get(url)\n",
    "    return json.loads(response.text)\n",
    "\n",
    "def extract_city_by_ip_1(ip):\n",
    "    data = extract_by_ip_json(ip)\n",
    "    return data['city']\n",
    "\n",
    "print(extract_city_by_ip_1('91.134.227.240'))"
   ]
  },
  {
   "cell_type": "code",
   "execution_count": null,
   "metadata": {},
   "outputs": [],
   "source": [
    "# Второй способ\n",
    "# Заметим в описании сайта (https://ipapi.co/#api),\n",
    "# что можно делать запросы сразу про название города\n",
    "\n",
    "def extract_city_by_ip_2(ip):\n",
    "    url = 'https://ipapi.co/{}/city'.format(ip)\n",
    "    response = requests.get(url)\n",
    "    return response.text\n",
    "\n",
    "print(extract_city_by_ip_2('91.134.227.240'))"
   ]
  },
  {
   "cell_type": "markdown",
   "metadata": {},
   "source": [
    "## API\n",
    "\n",
    "![API](https://static.consolia-comic.com/comics/what-is-an-api.png)\n",
    "\n",
    "Такой http-интерфейс для общения с сервисом называется API. Сайтов, которые их предоставляют, очень много. Как и на [ipapi.co/#api](https://ipapi.co/#api), на них всегда есть страничка с документацией, объясняющая, на какие запросы умеет отвечать сервис, и в каком формате делать такие запросы.\n",
    "\n",
    "[Список сервисов с API 1](https://www.programmableweb.com/apis/directory)\n",
    "\n",
    "[Список сервисов с API 2](https://github.com/public-apis/public-apis/blob/master/README.md) (тут отмечены те, в которых не нужна авторизация).\n",
    "\n",
    "[Список сервисов с API 3](https://shkspr.mobi/blog/2016/05/easy-apis-without-authentication/) (только те, в которых не была нужна авторизация на момент публикации)"
   ]
  },
  {
   "cell_type": "markdown",
   "metadata": {},
   "source": [
    "![front vs back](https://i.imgur.com/cNECvO3.png)\n",
    "\n",
    "### Задание\n",
    "* Найдите всех героев Dota 2, у которых больше двух ног.\n",
    "\n",
    "* Выведите для каждого его имя\n",
    "\n",
    "* А также имя того героя, против которого у этого героя самый высокий процент побед в последнее время, если учитывать только героев, против которого он сыграл хотя бы 20 матчей."
   ]
  },
  {
   "cell_type": "code",
   "execution_count": null,
   "metadata": {},
   "outputs": [],
   "source": []
  },
  {
   "cell_type": "code",
   "execution_count": null,
   "metadata": {},
   "outputs": [],
   "source": []
  },
  {
   "cell_type": "code",
   "execution_count": null,
   "metadata": {},
   "outputs": [],
   "source": []
  },
  {
   "cell_type": "markdown",
   "metadata": {},
   "source": [
    "### API с авторизацией\n",
    "\n",
    "![api key](https://pics.me.me/api-locksmiths-131-key-24-7-service-alarms-alarm-monitoring-37101506.png)\n",
    "\n",
    "На самом деле API, которые мы показывали (ipapi и opendota) - очень редкий случай, когда сервис не запрашивает авторизацию. В opendata, кстати, есть авторизация, и она увеличивает лимит на число запросов в месяц по сравнению с обычными запросами.\n",
    "\n",
    "Но практически у всех больших сервисов (типа Google, Telegram, Twitter) взаимодействие с API происходит с помощью авторизации.\n",
    "\n",
    "Авторизация преследует много разных целей, и у нее есть много разных реализаций. Но в целом она выглядит так: тебе как пользователю сервиса (например, гугла), выдается личный **токен** по твоему запросу (обычно даже несколько токенов). Это просто длинная строка, которую ты прикладываешь к запросу, чтобы сервис знал, кто его послал.\n",
    "\n",
    "Так можно отслеживать тех, кто злоупотребляет запросами и посылает их слишком много, а главное - с токеном ты можешь получить доступ к данным своего пользователя. Например, можно скачать всю свою переписку в VK, или даже посылать сообщения в VK через скрипты.\n",
    "\n",
    "Давайте попробуем подключиться по API, например, к Яндекс.Переводчику.\n",
    "\n",
    "* Получите токен [тут](https://translate.yandex.ru/developers/keys)\n",
    "* Сохраните его в переменную\n",
    "* Запустите код"
   ]
  },
  {
   "cell_type": "code",
   "execution_count": null,
   "metadata": {},
   "outputs": [],
   "source": [
    "YANDEX_TRANSLATE_TOKEN = ''\n",
    "\n",
    "def get_all_langs():\n",
    "    url = 'https://translate.yandex.net/api/v1.5/tr.json/getLangs?key={}&ui=ru'.format(YANDEX_TRANSLATE_TOKEN)\n",
    "    return json.loads(requests.get(url).text)\n",
    "\n",
    "langs = get_all_langs()\n",
    "langs['langs']"
   ]
  },
  {
   "cell_type": "code",
   "execution_count": null,
   "metadata": {},
   "outputs": [],
   "source": [
    "def translate_sentence(sentence):\n",
    "    url = 'https://translate.yandex.net/api/v1.5/tr.json/translate?key={}&lang=en-ru&text={}'.format(YANDEX_TRANSLATE_TOKEN,\n",
    "                                                                                                     sentence)\n",
    "    return json.loads(requests.get(url).text)['text']\n",
    "\n",
    "translate_sentence('Somebody once told me the world is gonna roll me.')"
   ]
  },
  {
   "cell_type": "markdown",
   "metadata": {},
   "source": [
    "Заметьте, какой длинный получается URL! И всё из-за параметров запроса вида key1=value1&key2=value2&... На самом деле в функцию requests.get можно передать URL без параметров, а сами параметры перечислить в отдельном аргументе-словаре, это намного красивее (и мы так делали, когда посылали POST-запрос)."
   ]
  },
  {
   "cell_type": "code",
   "execution_count": null,
   "metadata": {},
   "outputs": [],
   "source": [
    "def translate_sentence(sentence):\n",
    "    url = 'https://translate.yandex.net/api/v1.5/tr.json/translate'\n",
    "    params = {'key': YANDEX_TRANSLATE_TOKEN,\n",
    "              'lang': 'en-ru',\n",
    "              'text': sentence} \n",
    "    return json.loads(requests.get(url, params).text)['text']\n",
    "\n",
    "translate_sentence('Somebody once told me the world is gonna roll me.')"
   ]
  },
  {
   "cell_type": "markdown",
   "metadata": {},
   "source": [
    "### Задание\n",
    "Напишите функцию, которая по названию города находит текущую температуру в нем.\n",
    "\n",
    "* Зарегистрируйтесь на сайте https://home.openweathermap.org/users/sign_up\n",
    "* Найдите свой токен вот здесь https://home.openweathermap.org/api_keys\n",
    "* Вставьте токен в переменную\n",
    "* Почитайте документацию, чтобы понять, как пользоваться API https://openweathermap.org/current\n",
    "* Напишите функцию, которая выводит текущую погоду в заданном городе\n",
    "* Возможно, надо подождать немного, чтобы ключ начал работать"
   ]
  },
  {
   "cell_type": "code",
   "execution_count": null,
   "metadata": {},
   "outputs": [],
   "source": [
    "OPENWEATHER_TOKEN = '...'"
   ]
  },
  {
   "cell_type": "code",
   "execution_count": null,
   "metadata": {},
   "outputs": [],
   "source": []
  },
  {
   "cell_type": "code",
   "execution_count": null,
   "metadata": {},
   "outputs": [],
   "source": []
  },
  {
   "cell_type": "code",
   "execution_count": null,
   "metadata": {},
   "outputs": [],
   "source": []
  },
  {
   "cell_type": "code",
   "execution_count": null,
   "metadata": {},
   "outputs": [],
   "source": []
  },
  {
   "cell_type": "code",
   "execution_count": null,
   "metadata": {},
   "outputs": [],
   "source": []
  },
  {
   "cell_type": "code",
   "execution_count": null,
   "metadata": {},
   "outputs": [],
   "source": []
  },
  {
   "cell_type": "markdown",
   "metadata": {},
   "source": [
    "## API  через библиотеку\n",
    "\n",
    "![library](http://cecilialiao.com/wp-content/uploads/2015/06/mlwdc.jpg)\n",
    "\n",
    "И наконец последняя стадия развития человечества: авторизация на такие сайты настолько сложная, а запросы настолько длинные и непонятные, что люди пишут целые небольшие библиотеки, в которых уже реализованы все функции, делающие http-запросы. Практически у всех крупных компаний (Гугл, Фейсбук, Телеграм) есть такие библиотеки."
   ]
  },
  {
   "cell_type": "markdown",
   "metadata": {},
   "source": [
    "Например, при помощи библиотеки [vk_api](https://github.com/python273/vk_api) можно делать разные действия ВКонтакте:"
   ]
  },
  {
   "cell_type": "code",
   "execution_count": null,
   "metadata": {},
   "outputs": [],
   "source": [
    "# если библиотека не импортируется, может помочь рестарт кернела, мне помогло \n",
    "# !pip install vk_api\n",
    "import vk_api "
   ]
  },
  {
   "cell_type": "code",
   "execution_count": null,
   "metadata": {},
   "outputs": [],
   "source": [
    "VK_LOGIN = '...' # ваша почта или телефон\n",
    "VK_PASSWORD = '...'\n",
    "\n",
    "# авторизация \n",
    "vk_session = vk_api.VkApi(VK_LOGIN, VK_PASSWORD)\n",
    "vk_session.auth()\n",
    "\n",
    "# получение экзмепляра класса, реализующего API \n",
    "vk = vk_session.get_api() \n",
    "\n",
    "# вывести ваше имя и фамилию\n",
    "info = vk.account.getProfileInfo()\n",
    "print(info['first_name'], info['last_name'])"
   ]
  },
  {
   "cell_type": "code",
   "execution_count": null,
   "metadata": {},
   "outputs": [],
   "source": [
    "# разместить на Вашей стене сообщение Hello world! \n",
    "print(vk.wall.post(message='Hello world!'))"
   ]
  },
  {
   "cell_type": "code",
   "execution_count": null,
   "metadata": {},
   "outputs": [],
   "source": [
    "def get_user_id_by_name(name): \n",
    "    search_results = vk.users.search(q=name)\n",
    "    return search_results['items'][0]['id']\n",
    "\n",
    "get_user_id_by_name('Павел Дуров')"
   ]
  },
  {
   "cell_type": "code",
   "execution_count": null,
   "metadata": {},
   "outputs": [],
   "source": [
    "get_user_id_by_name('Андрей Гаркавый')"
   ]
  },
  {
   "cell_type": "code",
   "execution_count": null,
   "metadata": {},
   "outputs": [],
   "source": [
    "get_user_id_by_name('Дмитрий Медведев')"
   ]
  },
  {
   "cell_type": "markdown",
   "metadata": {},
   "source": [
    "### Еще пример: Google\n",
    "\n",
    "Теперь научися подключаться к гугл апи, это немного тяжелее.\n",
    "\n",
    "Например, давайте научимся записывать что-нибудь в гугл-таблицы.\n",
    "\n",
    "![google](http://www.ohiofi.com/blog/wp-content/uploads/2014/05/resized_the-most-interesting-man-in-the-world-meme-generator-i-don-t-always-excel-but-when-i-do-it-s-at-spreadsheets-7d56e8-239x300.jpg)\n"
   ]
  },
  {
   "cell_type": "code",
   "execution_count": null,
   "metadata": {},
   "outputs": [],
   "source": [
    "# !pip install google-api-python-client\n",
    "# !pip install oauth2client\n",
    "from googleapiclient.discovery import build\n",
    "from oauth2client import file, client, tools"
   ]
  },
  {
   "cell_type": "code",
   "execution_count": null,
   "metadata": {},
   "outputs": [],
   "source": [
    "# На что просить права\n",
    "SCOPES = [\n",
    "    'https://www.googleapis.com/auth/spreadsheets',\n",
    "    'https://www.googleapis.com/auth/drive'\n",
    "]\n",
    "\n",
    "# Функция, настраивающая соединение с API\n",
    "def connect_to_google_api():\n",
    "    store = file.Storage('token.json')\n",
    "    flow = client.flow_from_clientsecrets('credentials.json', SCOPES)\n",
    "    flags = tools.argparser.parse_args(args=[])\n",
    "    return tools.run_flow(flow, store, flags)\n",
    "\n",
    "# создаем файл, потому что он будет использоваться\n",
    "!touch token.json"
   ]
  },
  {
   "cell_type": "markdown",
   "metadata": {},
   "source": [
    "[Здесь](https://console.developers.google.com/apis/credentials) можно получить credentials.json для гугла:\n",
    "* \"Cоздать учетные данные\"\n",
    "* \"Идентификатор клиента OAuth\"\n",
    "* Введите название приложения\n",
    "* Выберите тип приложения\n",
    "* Скачайте json файл и назовите его credentials.json"
   ]
  },
  {
   "cell_type": "code",
   "execution_count": null,
   "metadata": {},
   "outputs": [],
   "source": [
    "creds = connect_to_google_api()"
   ]
  },
  {
   "cell_type": "code",
   "execution_count": null,
   "metadata": {},
   "outputs": [],
   "source": [
    "from httplib2 import Http\n",
    "\n",
    "# создаем объект, который умеет вызывать методы API\n",
    "service = build('sheets', 'v4', http=creds.authorize(Http()))"
   ]
  },
  {
   "cell_type": "markdown",
   "metadata": {},
   "source": [
    "Создайте на Google.Drive пустую таблицу и запишите сюда ее id.\n",
    "\n",
    "Давайте начимся писать в ней данные прямо из этого ноутбука."
   ]
  },
  {
   "cell_type": "code",
   "execution_count": null,
   "metadata": {},
   "outputs": [],
   "source": [
    "TABLE_ID = '...' # id - это огромная строка в url таблицы\n",
    "\n",
    "def update_table(table_id, values, range_name=\"Лист1\", valueInputOption='RAW'):\n",
    "    return service.spreadsheets().values().update(\n",
    "        spreadsheetId=table_id,\n",
    "        range=range_name,\n",
    "        valueInputOption=valueInputOption,\n",
    "        body={'values': values}, \n",
    "    ).execute()\n",
    "\n",
    "update_table(\n",
    "    table_id=TABLE_ID,\n",
    "    values=[['Avatar', 2787965087, 2009],\n",
    "            ['Avengers: Endgame', 2751645367, 2019],\n",
    "            ['Titanic', 2187463944, 1997]]\n",
    ")"
   ]
  },
  {
   "cell_type": "markdown",
   "metadata": {},
   "source": [
    "### Задание\n",
    "Возможно на дом, для желающих.\n",
    "\n",
    "* Создайте пустую гугл-таблицу.\n",
    "* Напишите функцию, которая выкачивает ваши последние 50 постов в ленте вк.\n",
    "* Напишите функцию, которая извлекает из них структурированную табличную информацию (текст, автор, количество просмотров, лайков, репостов, комментариев).\n",
    "* Напишите функцию, которая делает все это и заливает в вашу гугл-таблицу."
   ]
  },
  {
   "cell_type": "code",
   "execution_count": null,
   "metadata": {},
   "outputs": [],
   "source": []
  },
  {
   "cell_type": "code",
   "execution_count": null,
   "metadata": {},
   "outputs": [],
   "source": []
  },
  {
   "cell_type": "code",
   "execution_count": null,
   "metadata": {},
   "outputs": [],
   "source": []
  },
  {
   "cell_type": "code",
   "execution_count": null,
   "metadata": {},
   "outputs": [],
   "source": []
  },
  {
   "cell_type": "code",
   "execution_count": null,
   "metadata": {},
   "outputs": [],
   "source": []
  },
  {
   "cell_type": "markdown",
   "metadata": {},
   "source": [
    "### Замечание про то, как хранить токены и пароли\n",
    "\n",
    "![пароль](https://pbs.twimg.com/media/DLiNe_bXUAALfCU.jpg:large)\n",
    "\n",
    "Никогда, никогда не храните пароль/токен прямо в коде типа"
   ]
  },
  {
   "cell_type": "code",
   "execution_count": 35,
   "metadata": {},
   "outputs": [],
   "source": [
    "PASSWORD = 'best_password1234'\n",
    "\n",
    "# (в этом занятии я вот например стёр везде свои пароли :D)"
   ]
  },
  {
   "cell_type": "markdown",
   "metadata": {},
   "source": [
    "Особенно если вы заливаете свой код куда-либо (на гитхаб).\n",
    "\n",
    "Все токены, пароли, ключи авторизации удобно хранить в отдельном от кода файле (кстати, формат JSON бы подошел), который никогда-никогда никуда не заливать (тем более в открытый доступ), чтобы ключи хранились только локально у вас на компьютере, либо на сервере. Помните, что если вы уже залили что-то на гитхаб, оно уже навсегда останется там в истории, еси вы только не удалите свой репозиторий.\n",
    "\n",
    "При этом ваш основной скрипт, запускающий программу, должен просто читать этот файлик и использовать хранящиеся там пароли.\n",
    "\n",
    "### gitignore\n",
    "\n",
    "![gitignore](https://pics.esmemes.com/gitignore-2-you-were-the-chosen-one-ironic-32082411.png)\n",
    "\n",
    "Чтобы файл с ключами не попал в проект, когда вы заливаете локальный проект на гит (делаете commit и push через консоль или приложение), вам нужно добавить в проект файл с названием \".gitignore\". \n",
    "\n",
    "Если вы напишете в файл \".gitignore\" строчку с названием файла, то этот файл будет игнорироваться гитом, и не попадет ни в один коммит. \n",
    "\n",
    "Рекомендую проверить сначала на другом файле, а не сразу бежать заливать настоящий пароль :) Если вы заливаете пофайлово через интерфейс на сайте, то такой проблемы нет."
   ]
  },
  {
   "cell_type": "markdown",
   "metadata": {},
   "source": [
    "![мем1](https://media.giphy.com/media/fxesWuvpUdKClpRoD4/giphy.gif)\n"
   ]
  }
 ],
 "metadata": {
  "kernelspec": {
   "display_name": "Python 3",
   "language": "python",
   "name": "python3"
  },
  "language_info": {
   "codemirror_mode": {
    "name": "ipython",
    "version": 3
   },
   "file_extension": ".py",
   "mimetype": "text/x-python",
   "name": "python",
   "nbconvert_exporter": "python",
   "pygments_lexer": "ipython3",
   "version": "3.7.3"
  }
 },
 "nbformat": 4,
 "nbformat_minor": 2
}
