{
 "cells": [
  {
   "cell_type": "markdown",
   "metadata": {},
   "source": [
    "# Google Colab \n",
    "![](https://res.cloudinary.com/nholmber/image/upload/v1536751563/jupyter_colab_small_axbdcm.png)\n",
    "Сегодня мы познакомимся с инструментом компании Google GoogleColab\n",
    "Это среда разработки, представляющая собой знакомый нам jupyter-notebook, запущенная на серверах гугл с их сосбственным железом \n",
    "## Основные плюсы использования гугл колаб\n",
    "1. Доступ к данным с вашего GoogleDrive\n",
    "2. Вам выделяются относителньо приличные вычислительные мощности GPU K-80 12GB, при этом среда уже настроена для работы с GPU, а также TPU, но с ними вы вряд ли будете работать.\n",
    "3. Возможность Шарить ноубуки \n",
    "\n",
    "## Минусы \n",
    "1. Ограниченное время работы 10-12 часов\n",
    "2. Возможно вам попадется медленный кластер, где скорость будет мало отличаться от локального ноутбука\n"
   ]
  },
  {
   "cell_type": "markdown",
   "metadata": {},
   "source": [
    "# Начало работы с Колабом"
   ]
  },
  {
   "cell_type": "markdown",
   "metadata": {},
   "source": [
    "# Для сегодняшнего занятия вам понадобится \n",
    "1. Гугловый аккаунт \n",
    "2. Кажется, все"
   ]
  },
  {
   "cell_type": "markdown",
   "metadata": {},
   "source": [
    "## Нас встречает заглавная страница колаб, на которой уже можно оценить весь функционал этого сервиса \n",
    "![](Multim/ColabWelcom.png)"
   ]
  },
  {
   "cell_type": "markdown",
   "metadata": {},
   "source": [
    "### Создаем новый ноутбук\n",
    "    1. File -> New Python 3 Notebook \n",
    "    2. Вы великолепны\n",
    "### Загружаем ноубук в колаб\n",
    "    1. File -> Upload Notebook \n",
    "    2. Вы великолепны\n",
    "### Также там присутствуют иные варианты ( Открыть недавние ноутбуки, Загрузить ноутбук с гита)\n",
    "\n",
    "![](Multim/VariantsOfStart.png)"
   ]
  },
  {
   "cell_type": "markdown",
   "metadata": {},
   "source": [
    "### Выбираем режим работы Runtime\n",
    "    1. Runtime -> Change Runtime Type (Это перезагрущит ваш ноутбук, аналог Reset Kerenel, Так что все переменные и прочие обнулятся) -> Type: GPU\n",
    "![](Multim/RuntimeType.png)"
   ]
  },
  {
   "cell_type": "markdown",
   "metadata": {},
   "source": [
    "### Работа с файлами \n",
    "    1. С лева от рабочей области есть выдвигаюшаяся шторка, где можно выбрать вкладку Files \n",
    "    Там есть несколько вариантов (Подключить ваш Google Drive или Загрузить файл с компа)\n",
    "![](Multim/Files.png)\n",
    "\n",
    "        1.1 Работа с гугл Диском \n",
    "        1.2 Нажмите на иконку диска \"MountDrive\" в этой вкладке, создастся ячейчка, которую нужно выполнить и пройти аутентификацию\n",
    "        1.3 Теперь к файлам можно получить доступ с префиксом \"/content/drive/My Drive/\"\n",
    "        \n",
    "        \n",
    "        \n",
    "        2.1 Работа с загруженными файлами очевидна, но учтите, что это неудобно и так далее \n",
    "Выполнив команду \n",
    "```\n",
    "    from google.colab import files \n",
    "    files.download('file.name')\n",
    "```\n",
    "\n",
    "можно скачать какой-то файл с помощью ячейки, например модельку после её обучения"
   ]
  },
  {
   "cell_type": "markdown",
   "metadata": {},
   "source": [
    "# Ссылки по теме \n",
    "[Intro to colab](https://towardsdatascience.com/getting-started-with-google-colab-f2fff97f594c)\n"
   ]
  },
  {
   "cell_type": "markdown",
   "metadata": {},
   "source": [
    "<a href=\"\"><img src=\"https://i.imgflip.com/35z04i.jpg\" title=\"made at imgflip.com\"/></a>"
   ]
  },
  {
   "cell_type": "markdown",
   "metadata": {},
   "source": [
    "# Что же мы там будем творить ()()())\n",
    "\n",
    "\n",
    "Чтобы ощутить всю силу GoogleColab, мы попроюуем обучит собственный генератор Лиц на основе DcGAN\n",
    "\n",
    "Для понимания происходящего познакомимся с основынми методами работы с изображениями в нейросетях (и не только)\n",
    "\n",
    "https://colab.research.google.com/drive/1mtL1sKA1yB0gg1aoh0Sr32r6CDnAwDZX"
   ]
  },
  {
   "cell_type": "markdown",
   "metadata": {},
   "source": []
  },
  {
   "cell_type": "markdown",
   "metadata": {},
   "source": [
    "![](Multim/generation_animation.gif)"
   ]
  },
  {
   "cell_type": "code",
   "execution_count": null,
   "metadata": {},
   "outputs": [],
   "source": []
  }
 ],
 "metadata": {
  "kernelspec": {
   "display_name": "Python 3",
   "language": "python",
   "name": "python3"
  },
  "language_info": {
   "codemirror_mode": {
    "name": "ipython",
    "version": 3
   },
   "file_extension": ".py",
   "mimetype": "text/x-python",
   "name": "python",
   "nbconvert_exporter": "python",
   "pygments_lexer": "ipython3",
   "version": "3.7.3"
  }
 },
 "nbformat": 4,
 "nbformat_minor": 2
}
