{
 "cells": [
  {
   "cell_type": "markdown",
   "metadata": {},
   "source": [
    "# Если у нас есть облачное VDS, почему бы не использовать её как прокси. Heroku нам в этом не поможет (https://www.heroku.com/policy/aup пункт 20)\n",
    "\n",
    "Так что разберемся с созданием собственного MtPRoto сервера на облачном VDS"
   ]
  },
  {
   "cell_type": "markdown",
   "metadata": {},
   "source": [
    "## Войдите в свой VPS и установить необходимые пакеты (в моем случае я буду использовать Ubuntu)\n",
    "\n",
    "    1. apt-get update\n",
    "    2. apt-get install docker.io\n",
    "    \n",
    "    \n",
    "    \n",
    "## И сейчас, установить Docker контейнер с самого прокси, где: 6968 – это порт, который вы хотите, чтобы ваш сервер был доступен на\n",
    "\n",
    "\n",
    "    docker run -d -p6968:443 --name=mtproto-proxy --restart=always -v proxy-config:/data telegrammessenger/proxy:latest\n",
    "\n"
   ]
  },
  {
   "cell_type": "markdown",
   "metadata": {},
   "source": [
    "## Получение секретного ключа \n",
    "docker logs mtproto-proxy"
   ]
  },
  {
   "cell_type": "markdown",
   "metadata": {},
   "source": [
    "## Выбираем нужное подключение \n",
    "\n",
    "Имея IP/домен вашего сервера, порт и секрет\n",
    "\n",
    "![](https://blog.jazinbaz.in/wp-content/uploads/2018/06/2018-06-01_00-37-45-235x300.png)"
   ]
  },
  {
   "cell_type": "code",
   "execution_count": null,
   "metadata": {},
   "outputs": [],
   "source": []
  }
 ],
 "metadata": {
  "kernelspec": {
   "display_name": "Python 3",
   "language": "python",
   "name": "python3"
  },
  "language_info": {
   "codemirror_mode": {
    "name": "ipython",
    "version": 3
   },
   "file_extension": ".py",
   "mimetype": "text/x-python",
   "name": "python",
   "nbconvert_exporter": "python",
   "pygments_lexer": "ipython3",
   "version": "3.7.3"
  }
 },
 "nbformat": 4,
 "nbformat_minor": 2
}
