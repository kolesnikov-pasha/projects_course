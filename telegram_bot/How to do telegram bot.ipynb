{
 "cells": [
  {
   "cell_type": "markdown",
   "metadata": {},
   "source": [
    "# Как написать своего telegram бота"
   ]
  },
  {
   "cell_type": "markdown",
   "metadata": {},
   "source": [
    "Во многих проектах в качестве интерфейса используются боты. Давайте научимся их писать, если кто-то не сделал этого без нас."
   ]
  },
  {
   "cell_type": "markdown",
   "metadata": {},
   "source": [
    "##  Bot Father"
   ]
  },
  {
   "cell_type": "markdown",
   "metadata": {},
   "source": [
    "<img src='https://st.tlgrm.ru/aaf/44d/aaf44db7572a2fcafef3ae5ea5c20bb2.png' height='400pt' width='400pt'/>"
   ]
  },
  {
   "cell_type": "markdown",
   "metadata": {},
   "source": [
    "Чтобы начать делать своего бота, напишите другому боту с ником @BotFather и следуйте его инструкциям. Как только вы создадите бота и получите свой ключ (токен) авторизации, можно будет начать тестировать то, что мы напишем далее. "
   ]
  },
  {
   "cell_type": "markdown",
   "metadata": {},
   "source": [
    "# Немного про РосКомНадзор"
   ]
  },
  {
   "cell_type": "markdown",
   "metadata": {},
   "source": [
    "![rkn](https://tgram.ru/blog/wp-content/uploads/2017/06/telegram-block.png)\n",
    "Запустить бота на вашем компьютере скорее всего не получится, потому что роскомнадзор заблокировал сервера телеги.\n",
    "\n",
    "Есть много способов обойти блокировку:\n",
    "* Использовать <a href='https://rus.windscribe.com/'>какой-нибудь бесплатный VPN</a> (удобно дома).\n",
    "* Использовать вай-фай с настроенным прокси (например Tinkoff-Guest).\n",
    "* Работать с зарубежного сервера (heroku точно сработает, Яндекс.Облако неточно)\n",
    "* Во всех библиотеках есть способ указать, какой использовать прокси: гуглите `proxy list`, выбираете [любой список бесплатных прокси](https://free-proxy-list.net), выбираете оттуда адрес, добавляете его в код (но когда он отвалится, вам будет грустно).\n",
    "* Чуть более надежный способ: вместо одного адреса вы подкачиваете `proxy list` через [API](https://www.proxy-list.download/api/v1), и если выбранный оттуда адрес падает, просто берете новый.\n"
   ]
  },
  {
   "cell_type": "markdown",
   "metadata": {},
   "source": [
    "## pyTelegramBotAPI"
   ]
  },
  {
   "cell_type": "markdown",
   "metadata": {},
   "source": [
    "Для ботов на питоне существует огромное множество разных библиотек, но мы будем использовать библиотеку pyTelegramBotAPI, так как нам кажется, что она проще других."
   ]
  },
  {
   "cell_type": "code",
   "execution_count": 1,
   "metadata": {},
   "outputs": [
    {
     "name": "stdout",
     "output_type": "stream",
     "text": [
      "Requirement already satisfied: pyTelegramBotAPI in c:\\programdata\\anaconda3\\lib\\site-packages (3.6.6)\n",
      "Requirement already satisfied: requests in c:\\users\\admin\\appdata\\roaming\\python\\python37\\site-packages (from pyTelegramBotAPI) (2.7.0)\n",
      "Requirement already satisfied: six in c:\\programdata\\anaconda3\\lib\\site-packages (from pyTelegramBotAPI) (1.12.0)\n"
     ]
    }
   ],
   "source": [
    "!pip install pyTelegramBotAPI"
   ]
  },
  {
   "cell_type": "markdown",
   "metadata": {},
   "source": [
    "Импортируем библиотеку и начинаем писать функционал"
   ]
  },
  {
   "cell_type": "code",
   "execution_count": 2,
   "metadata": {},
   "outputs": [],
   "source": [
    "import telebot"
   ]
  },
  {
   "cell_type": "markdown",
   "metadata": {},
   "source": [
    "Все, что нам нужно, это экземпляр класса TeleBot. В конструктор нужно передать тот самый токен, который вам дал Bot Father."
   ]
  },
  {
   "cell_type": "code",
   "execution_count": 9,
   "metadata": {},
   "outputs": [],
   "source": [
    "TOKEN = 'YOUR TOKEN HERE'\n",
    "\n",
    "bot = telebot.TeleBot(TOKEN)"
   ]
  },
  {
   "cell_type": "markdown",
   "metadata": {},
   "source": [
    "## Декораторы\n",
    "![decorator](http://www.xappsoftware.com/wordpress/wp-content/uploads/2017/12/decorators.png)\n",
    "\n",
    "Обработка сообщений в этой библиотеке реализованна с помощью декораторов. О том, что такое декораторы можно почитать <a href='https://pythonworld.ru/osnovy/dekoratory.html'>тут</a>, но для этого занятия нам не потребуется понимание того, как именно это работает. Главное знать, что декоратор мы используем после знака `@`."
   ]
  },
  {
   "cell_type": "markdown",
   "metadata": {},
   "source": [
    "В этой библиотеке два разных декоратора. message_handler и callback_query_handler. Подробнее о втором можете почитать в <a href='https://github.com/eternnoir/pyTelegramBotAPI/blob/master/README.md'>документации</a>, а мы сосредоточимся на первом. Метод, который описан под декоратором message_handler вызывается каждый раз, когда боту приходит сообщение (и еще в паре случаев, о которых тоже написано в <a href='https://github.com/eternnoir/pyTelegramBotAPI/blob/master/README.md'>документации</a>, но это не очень важно, на мой взгляд)."
   ]
  },
  {
   "cell_type": "markdown",
   "metadata": {},
   "source": [
    "Метод, который мы описываем под декоратором принимает по параметрам message - информацию о сообщении, содержит само сообщение, информацию о юзере, который его отправил, и информацию о чате, в котором отправлено сообщение."
   ]
  },
  {
   "cell_type": "markdown",
   "metadata": {},
   "source": [
    "Чтобы отправить ответ пользователю у бота send методы: send_message, send_document и так далее. Все они по параметрам принимают id чата, куда нужно отправить сообщение, в нашем случае это id чата, из которого было получено сообщение (еще можно отправлять всегда юзеру, который сообщение отправил, или вообще рандомному юзеру)."
   ]
  },
  {
   "cell_type": "code",
   "execution_count": 3,
   "metadata": {},
   "outputs": [],
   "source": [
    "@bot.message_handler()\n",
    "def get_text_messages(message):\n",
    "    print('From: ', message.from_user.username)\n",
    "    print('Message: ', message.text)\n",
    "    print('Chat type: ', message.chat.type)\n",
    "    print('---------------------------------')\n",
    "    bot.send_message(message.chat.id, 'Ты прислал сообщение мне, а я тебе, вот так вот.')"
   ]
  },
  {
   "cell_type": "markdown",
   "metadata": {},
   "source": [
    "## Запуск бота\n",
    "Запустить бота не сложно (сложнее его потом убить, но это только в ноутбуках проблема, я просто делаю рестарт кернела, можно попытаться использовать метод bot.stop_polling). Для этого нужно вызвать метод polling. Что делает этот метод: через небольшой промежуток времени спрашивает у серверов telegram, не пришли ли ему новые сообщения и если пришли получает их."
   ]
  },
  {
   "cell_type": "code",
   "execution_count": 5,
   "metadata": {},
   "outputs": [],
   "source": [
    "bot.polling()"
   ]
  },
  {
   "cell_type": "markdown",
   "metadata": {},
   "source": [
    "## О параметрах декоратора"
   ]
  },
  {
   "cell_type": "markdown",
   "metadata": {},
   "source": [
    "Чтобы не ифать в методе под пустым декоратором, разработчики pyTelegramBotAPI добавили возможность использовать message_handler с параметрами."
   ]
  },
  {
   "cell_type": "markdown",
   "metadata": {},
   "source": [
    "Первый параметр - content_types. Метод под декоратором ниже будет вызываться только тогда, когда сообщение в чате с ботом содержит текст или файл:"
   ]
  },
  {
   "cell_type": "code",
   "execution_count": 1,
   "metadata": {},
   "outputs": [],
   "source": [
    "#добавил сюда импорт и токен еще раз, чтобы вам не приходилось возвращаться к началу ноутбука после рестарта кернела\n",
    "import telebot\n",
    "\n",
    "TOKEN = 'YOUR TOKEN HERE'"
   ]
  },
  {
   "cell_type": "code",
   "execution_count": 4,
   "metadata": {},
   "outputs": [],
   "source": [
    "bot = telebot.TeleBot(TOKEN)\n",
    "\n",
    "@bot.message_handler(content_types=['text', 'document'])\n",
    "def get_text_messages(message):\n",
    "    bot.send_message(message.chat.id, 'Ты прислал сообщение с текстом или документом, а я тебе текстом ответил.')\n",
    "    \n",
    "bot.polling()"
   ]
  },
  {
   "cell_type": "markdown",
   "metadata": {},
   "source": [
    "Но если вы хотите разделить обработку сообщений с документом и сообщений с текстом, то можно создать два отдельных обработчика:"
   ]
  },
  {
   "cell_type": "code",
   "execution_count": 3,
   "metadata": {},
   "outputs": [],
   "source": [
    "bot = telebot.TeleBot(TOKEN)\n",
    "\n",
    "@bot.message_handler(content_types=['text'])\n",
    "def get_text_messages(message):\n",
    "    bot.send_message(message.chat.id, 'Ты прислал сообщение с текстом, а я тебе текстом ответил.')\n",
    "    \n",
    "@bot.message_handler(content_types=['document'])\n",
    "def get_text_messages(message):\n",
    "    bot.send_message(message.chat.id, 'Ты прислал сообщение с документом, а я тебе текстом ответил.')\n",
    "    \n",
    "bot.polling()"
   ]
  },
  {
   "cell_type": "markdown",
   "metadata": {},
   "source": [
    "Также эта библиотека поддерживает регулярные выражения (мы о них <a href='https://github.com/olpyhn/projects_course/blob/master/parsing/parsing.ipynb'>рассказывали</a>):"
   ]
  },
  {
   "cell_type": "code",
   "execution_count": 3,
   "metadata": {},
   "outputs": [],
   "source": [
    "bot = telebot.TeleBot(TOKEN)\n",
    "\n",
    "@bot.message_handler(regexp='[hH][eE][lL]{2}[oO]')\n",
    "def get_text_messages(message):\n",
    "    bot.send_message(message.chat.id, 'Hi, are you from england? Ooooh, i too')\n",
    "    \n",
    "bot.polling()"
   ]
  },
  {
   "cell_type": "markdown",
   "metadata": {},
   "source": [
    "Одним из параметров может быть команда(ы) на которые отзывается этот обработчик:"
   ]
  },
  {
   "cell_type": "code",
   "execution_count": 3,
   "metadata": {},
   "outputs": [],
   "source": [
    "bot = telebot.TeleBot(TOKEN)\n",
    "\n",
    "@bot.message_handler(commands=['start'])\n",
    "def get_text_messages(message):\n",
    "    bot.send_message(message.chat.id, 'Стартуем! Ты сказал \"Стартуем!\"!')\n",
    "    \n",
    "bot.polling()"
   ]
  },
  {
   "cell_type": "markdown",
   "metadata": {},
   "source": [
    "Ну и, наконец, в параметры можно передавать функцию, которая должна решать, обрабатывать это сообщение или нет:"
   ]
  },
  {
   "cell_type": "code",
   "execution_count": 4,
   "metadata": {},
   "outputs": [],
   "source": [
    "bot = telebot.TeleBot(TOKEN)\n",
    "\n",
    "ID = #YOUR TELEGRAM ID HERE, можно получить с помощью print(message.from_user.id)\n",
    "@bot.message_handler(func=lambda message: message.from_user.id == ID)\n",
    "def handle_text_doc(message):\n",
    "    bot.send_message(message.chat.id, 'Приветствую, мой Господин!')\n",
    "    \n",
    "bot.polling()"
   ]
  },
  {
   "cell_type": "markdown",
   "metadata": {},
   "source": [
    "## О том, что не нужно писать ботов в ноутбуке"
   ]
  },
  {
   "cell_type": "markdown",
   "metadata": {},
   "source": [
    "Чтобы не страдать, что нужно перезапускать кернел, лучше писать бота в отдельном файлике. Например, как это сделано <a href='https://github.com/olpyhn/projects_course/blob/master/heroku_bot/main.py'>у меня</a>"
   ]
  }
 ],
 "metadata": {
  "kernelspec": {
   "display_name": "Python 3",
   "language": "python",
   "name": "python3"
  },
  "language_info": {
   "codemirror_mode": {
    "name": "ipython",
    "version": 3
   },
   "file_extension": ".py",
   "mimetype": "text/x-python",
   "name": "python",
   "nbconvert_exporter": "python",
   "pygments_lexer": "ipython3",
   "version": "3.7.3"
  }
 },
 "nbformat": 4,
 "nbformat_minor": 2
}
