{
 "cells": [
  {
   "cell_type": "markdown",
   "metadata": {},
   "source": [
    "# Занятие 1: HTTP-запросы, JSON, API.\n",
    "\n",
    "## HTTP запросы"
   ]
  },
  {
   "cell_type": "markdown",
   "metadata": {},
   "source": [
    "### Что такое HTTP запросы?"
   ]
  },
  {
   "cell_type": "markdown",
   "metadata": {},
   "source": [
    "Протокол HTTP предназначен для передачи данных. Именно он используется браузером, если нужно посмотреть мемы, видосики и все такое. Мы же можем его использовать чтобы получить или отправить какие-то данные с или на сервер."
   ]
  },
  {
   "cell_type": "markdown",
   "metadata": {},
   "source": [
    "Обмен сообщениями между сервером и клиентом проиходит по принципу \"запрос-ответ\". Клиент совершает некий запрос и получает на него ответ сервера."
   ]
  },
  {
   "cell_type": "markdown",
   "metadata": {},
   "source": [
    "Структура HTTP запроса:\n",
    "\n",
    "Строка запроса – указывает метод передачи, URL-адрес, к которому нужно обратиться и версию протокола HTTP\n",
    "\n",
    "Заголовки – описывают тело сообщений, передают различные параметры и др. сведения и информацию\n",
    "\n",
    "Тут пустая строка в качестве разделителя.\n",
    "\n",
    "Тело сообщения  — это сами данные, которые передаются в запросе.  Тело сообщения – это необязательный параметр и может отсутствовать"
   ]
  },
  {
   "cell_type": "markdown",
   "metadata": {},
   "source": [
    "Например, если мы хотим получить статью википеди про http, то наш браузер сделает следующий запрос:\n",
    "    \n",
    "    GET /wiki/HTTP HTTP/1.1\n",
    "    Host: ru.wikipedia.org\n",
    "    User-Agent: Mozilla/5.0 (X11; U; Linux i686; ru; rv:1.9b5) Gecko/2008050509 Firefox/3.0b5\n",
    "    Accept: text/html\n",
    "    Connection: close\n",
    "    (пустая строка)  \n",
    "        \n",
    "Первые 2 строки это строка запроса, все оставшиеся - заголовки. В этом запросе отсутствует тело.\n",
    "Ответ на этот запрос будет следующий:\n",
    "\n",
    "    HTTP/1.1 200 OK\n",
    "    Date: Wed, 11 Feb 2009 11:20:59 GMT\n",
    "    Server: Apache\n",
    "    X-Powered-By: PHP/5.2.4-2ubuntu5wm1\n",
    "    Last-Modified: Wed, 11 Feb 2009 11:20:59 GMT\n",
    "    Content-Language: ru\n",
    "    Content-Type: text/html; charset=utf-8\n",
    "    Content-Length: 1234\n",
    "    Connection: close\n",
    "    (пустая строка)\n",
    "    (запрошенная страница в HTML)"
   ]
  },
  {
   "cell_type": "markdown",
   "metadata": {},
   "source": [
    "### На питоне"
   ]
  },
  {
   "cell_type": "markdown",
   "metadata": {},
   "source": [
    "На мой взгляд, все, что сверху, выглядит, мягко говоря, сложновато.\n",
    "\n",
    "Во-первых, вместо всего этого можно писать только URL.\n",
    "\n",
    "Во-вторых, на питоне такие запросы будут выглядеть гораздо более удобно."
   ]
  },
  {
   "cell_type": "code",
   "execution_count": null,
   "metadata": {},
   "outputs": [],
   "source": [
    "# импортируем библиотеку, с помощью которой будем делать запросы\n",
    "# если у вас нет библиотеки, установите её вот этой строчкой:\n",
    "# !pip install requests\n",
    "import requests "
   ]
  },
  {
   "cell_type": "code",
   "execution_count": null,
   "metadata": {},
   "outputs": [],
   "source": [
    "# GET-запрос просто получает html-код странички\n",
    "\n",
    "responce = requests.get(url=\"http://sereja.me\")\n",
    "print(responce.text)"
   ]
  },
  {
   "cell_type": "code",
   "execution_count": null,
   "metadata": {},
   "outputs": [],
   "source": [
    "print(responce.status_code)"
   ]
  },
  {
   "cell_type": "markdown",
   "metadata": {},
   "source": [
    "Код 200 - это редкий случай, когда запрос произошел успешно. Этот код может быть равен [разным](https://http.cat/) значениям. Например, 404 - это когда запрос не успешен из-за отсутствия запрашиваемого ресурса."
   ]
  },
  {
   "cell_type": "markdown",
   "metadata": {},
   "source": [
    "### Еще примеры\n",
    "Напишем функцию, которая принимает дату, и скачивает сырую страницу, на которой есть все футбольные матчи в этот день."
   ]
  },
  {
   "cell_type": "code",
   "execution_count": null,
   "metadata": {},
   "outputs": [],
   "source": [
    "def extract_footbal_matches_html(year, month, day):\n",
    "    url = 'https://www.sports.ru/football/match/{}-{}-{}/'.format(year, month, day)\n",
    "    response = requests.get(url)\n",
    "    return response.text\n",
    "\n",
    "extract_footbal_matches_html(2009, 4, 21)"
   ]
  },
  {
   "cell_type": "markdown",
   "metadata": {},
   "source": [
    "Напишем функцию, которая получает страничку с информацией про место, к которому привязано IP."
   ]
  },
  {
   "cell_type": "code",
   "execution_count": null,
   "metadata": {},
   "outputs": [],
   "source": [
    "def extract_by_IP_html(IP):\n",
    "    url = 'https://ipapi.co/{}/'.format(IP)\n",
    "    response = requests.get(url)\n",
    "    return response.text\n",
    "\n",
    "extract_by_IP_html('91.134.227.240')"
   ]
  },
  {
   "cell_type": "markdown",
   "metadata": {},
   "source": [
    "### Попробуйте сами\n",
    "Выберите сайт и посмотрите как он выглядит в виде html-кода"
   ]
  },
  {
   "cell_type": "code",
   "execution_count": null,
   "metadata": {},
   "outputs": [],
   "source": []
  },
  {
   "cell_type": "markdown",
   "metadata": {},
   "source": [
    "### HTTP методы\n",
    "\n",
    "![get vs post](https://i.ibb.co/mvPrFPs/getpost.jpg)\n",
    "\n",
    "Чаще всего запрос - это метод GET или метод POST. Обычно GET - это запрос без изменения данных, а POST - это запрос с изменениями.\n",
    "\n",
    "Мы пока делали только GET-запросы, именно они скачивают код страницы (на самом деле просто ваш браузер как код страницы воспринимает ровно то, что вернул GET-запрос).\n"
   ]
  },
  {
   "cell_type": "markdown",
   "metadata": {},
   "source": [
    "### POST\n",
    "Применяется для передачи пользовательских данных заданному ресурсу. Например, в блогах посетители обычно могут вводить свои комментарии к записям в HTML-форму, после чего они передаются серверу методом POST и он помещает их на страницу. При этом передаваемые данные (в примере с блогами — текст комментария) включаются в тело запроса. Аналогично с помощью метода POST обычно загружаются файлы на сервер.\n",
    "\n",
    "Часто пост-запрос просто заполняет форму на сайте. Посмотрим на пример пост-запроса, который заполняют форму авторизации на сайте informatics, например."
   ]
  },
  {
   "cell_type": "code",
   "execution_count": null,
   "metadata": {},
   "outputs": [],
   "source": [
    "# сделать POST запрос с помощью библиотеки requests тоже просто\n",
    "\n",
    "# вставьте сюда свои логин и пароль\n",
    "DATA = {'username' : '...',\n",
    "        'password' : '...'}\n",
    "\n",
    "url = \"https://informatics.mccme.ru/login/index.php\"\n",
    "r = requests.post(url, DATA)\n",
    "html = r.text\n",
    "\n",
    "print(html)"
   ]
  },
  {
   "cell_type": "markdown",
   "metadata": {},
   "source": [
    "## JSON вместо HTML\n",
    "\n",
    "![JSON Statham](https://pics.me.me/json-statha-meanwhile-43613192.png)\n",
    "\n",
    "Заметьте, что если бы вы хотели извлечь все матчи из sports.ru за какой-то день, то вам пришлось бы сидеть и парсить огромный HTML-код, то есть научиться извлекать полезную и нужную вам информацию (список матчей, их времени, участников и итогог счета, например). Иногда приходится так делать, и этим мы скорее всего и займемся на следующем занятии.\n",
    "\n",
    "Но многие сервисы знают, что ими пользуются не только пользователи через интерфейс, но и скрипты. И упрощают для них работу. А именно, создают специальный формат URL, на запрос по которому вместо html-кода выдается строка с данными в удобном формате, которую не надо сложно парсить.\n",
    "\n",
    "Например, сайт ipapi.co называется так не случайно. Он умеет не только красиво показывать данные в интерфейсе по адресу [ipapi.co/91.134.227.240/](http://ipapi.co/91.134.227.240/), но и возвращать только полезную информацию в формате JSON по адресу [ipapi.co/91.134.227.240/json](https://ipapi.co/91.134.227.240/json)"
   ]
  },
  {
   "cell_type": "code",
   "execution_count": null,
   "metadata": {},
   "outputs": [],
   "source": [
    "def extract_by_ip_json(ip):\n",
    "    url = 'https://ipapi.co/{}/json'.format(ip)\n",
    "    response = requests.get(url)\n",
    "    return response.text\n",
    "\n",
    "print(extract_by_ip_json('91.134.227.240'))"
   ]
  },
  {
   "cell_type": "markdown",
   "metadata": {},
   "source": [
    "Согласитесь, что это гораздо более легко обрабатываемая строчка, чем огромный html-код :) Этот формат называется и называется JSON."
   ]
  },
  {
   "cell_type": "markdown",
   "metadata": {},
   "source": [
    "### Более подробно про JSON\n",
    "[JSON](https://ru.wikipedia.org/wiki/JSON) - это очень удобный универсальный формат данных, состоящий из списков, словарей, строчек, чисел, true, false и null-ов. Причем списки и словари могут быть любой вложенности: это может быть словарь, где значениями являются другие словари, в некоторых из которых значениями являются списки словарей и так далее.\n",
    "\n",
    "Перевод питоновских словарей/списков в json и обратно умеет делать библиотека json."
   ]
  },
  {
   "cell_type": "code",
   "execution_count": null,
   "metadata": {},
   "outputs": [],
   "source": [
    "# если у вас нет библиотеки, установите её вот этой строчкой:\n",
    "# !pip install json\n",
    "import json"
   ]
  },
  {
   "cell_type": "markdown",
   "metadata": {},
   "source": [
    "### Функция json.loads\n",
    "loads = load string, принимает на вход строку, возвращает данные"
   ]
  },
  {
   "cell_type": "code",
   "execution_count": null,
   "metadata": {},
   "outputs": [],
   "source": [
    "s = extract_by_ip_json('91.134.227.240')\n",
    "data = json.loads(s)\n",
    "data"
   ]
  },
  {
   "cell_type": "code",
   "execution_count": null,
   "metadata": {},
   "outputs": [],
   "source": [
    "# это обычный словарь\n",
    "print(data['longitude'], data['latitude'])\n",
    "print(data['country_name'])\n",
    "print(data['city'])"
   ]
  },
  {
   "cell_type": "markdown",
   "metadata": {},
   "source": [
    "### Функция json.dumps\n",
    "dumps = dump string, принимает на вход данные, возращает строку"
   ]
  },
  {
   "cell_type": "code",
   "execution_count": null,
   "metadata": {},
   "outputs": [],
   "source": [
    "s = json.dumps(data)\n",
    "print(s)"
   ]
  },
  {
   "cell_type": "markdown",
   "metadata": {},
   "source": [
    "### Работа с файлами\n",
    "Те же функции, но без s (то есть load и dump) - вместо превращения из/в строку считывают/записывают из файла."
   ]
  },
  {
   "cell_type": "code",
   "execution_count": null,
   "metadata": {},
   "outputs": [],
   "source": [
    "# dump\n",
    "with open('ip.json', 'w') as f:\n",
    "    json.dump(data, f)"
   ]
  },
  {
   "cell_type": "code",
   "execution_count": null,
   "metadata": {},
   "outputs": [],
   "source": [
    "# load\n",
    "with open('ip.json', 'r') as f:\n",
    "    data = json.load(f)\n",
    "print(data['region'])"
   ]
  },
  {
   "cell_type": "markdown",
   "metadata": {},
   "source": [
    "### Примеры\n",
    "Давайте напишем функцию, которая по IP возвращает название города."
   ]
  },
  {
   "cell_type": "code",
   "execution_count": null,
   "metadata": {},
   "outputs": [],
   "source": [
    "# Первый способ\n",
    "# Сделаем то же самое\n",
    "\n",
    "def extract_by_ip_json(ip):\n",
    "    url = 'https://ipapi.co/{}/json'.format(ip)\n",
    "    response = requests.get(url)\n",
    "    return json.loads(response.text)\n",
    "\n",
    "def extract_city_by_ip_1(ip):\n",
    "    data = extract_by_ip_json(ip)\n",
    "    return data['city']\n",
    "\n",
    "print(extract_city_by_ip_1('91.134.227.240'))"
   ]
  },
  {
   "cell_type": "code",
   "execution_count": null,
   "metadata": {},
   "outputs": [],
   "source": [
    "# Второй способ\n",
    "# Заметим в описании сайта (https://ipapi.co/#api),\n",
    "# что можно делать запросы сразу про название города\n",
    "\n",
    "def extract_city_by_ip_2(ip):\n",
    "    url = 'https://ipapi.co/{}/city'.format(ip)\n",
    "    response = requests.get(url)\n",
    "    return response.text\n",
    "\n",
    "print(extract_city_by_ip_2('91.134.227.240'))"
   ]
  },
  {
   "cell_type": "markdown",
   "metadata": {},
   "source": [
    "## API\n",
    "\n",
    "![API](https://static.consolia-comic.com/comics/what-is-an-api.png)\n",
    "\n",
    "Такой http-интерфейс для общения с сервисом называется API. Сайтов, которые их предоставляют, очень много. Как и на [ipapi.co/#api](https://ipapi.co/#api), на них всегда есть страничка с документацией, объясняющая, на какие запросы умеет отвечать сервис, и в каком формате делать такие запросы.\n",
    "\n",
    "[Список сервисов с API 1](https://www.programmableweb.com/apis/directory)\n",
    "\n",
    "[Список сервисов с API 2](https://github.com/public-apis/public-apis/blob/master/README.md) (тут отмечены те, в которых не нужна авторизация).\n",
    "\n",
    "[Список сервисов с API 3](https://shkspr.mobi/blog/2016/05/easy-apis-without-authentication/) (только те, в которых не была нужна авторизация на момент публикации)"
   ]
  },
  {
   "cell_type": "markdown",
   "metadata": {},
   "source": [
    "![front vs back](https://i.imgur.com/cNECvO3.png)\n",
    "\n",
    "### Задание\n",
    "* Найдите всех героев Dota 2, у которых больше двух ног.\n",
    "\n",
    "* Выведите для каждого его имя\n",
    "\n",
    "* А также имя того героя, против которого у этого героя самый высокий процент побед в последнее время, если учитывать только героев, против которого он сыграл хотя бы 20 матчей."
   ]
  },
  {
   "cell_type": "code",
   "execution_count": null,
   "metadata": {},
   "outputs": [],
   "source": [
    "# Решение, надо будет удалить перед занятием\n",
    "all_heroes = json.loads(requests.get('https://api.opendota.com/api/heroes').text)\n",
    "\n",
    "heroes = [x for x in all_heroes if x['legs'] > 2]\n",
    "\n",
    "id_to_name = {hero['id']: hero['localized_name'] for hero in all_heroes}\n",
    "\n",
    "for hero in heroes:\n",
    "    url = 'https://api.opendota.com/api/heroes/{}/matchups'.format(hero['id'])\n",
    "    data = json.loads(requests.get(url).text)\n",
    "    winrates = [(x['wins'] / x['games_played'], id_to_name[x['hero_id']]) for x in data if x['games_played'] >= 20]\n",
    "    if winrates:\n",
    "        max_winrate, max_hero = max(winrates)\n",
    "        print('{} wins {} with {} rate'.format(hero['localized_name'], max_hero, max_winrate))"
   ]
  },
  {
   "cell_type": "markdown",
   "metadata": {},
   "source": [
    "### API с авторизацией\n",
    "\n",
    "![api key](https://pics.me.me/api-locksmiths-131-key-24-7-service-alarms-alarm-monitoring-37101506.png)\n",
    "\n",
    "На самом деле API, которые мы показывали (ipapi и opendota) - очень редкий случай, когда сервис не запрашивает авторизацию. В opendata, кстати, есть авторизация, и она увеличивает лимит на число запросов в месяц по сравнению с обычными запросами.\n",
    "\n",
    "Но практически у всех больших сервисов (типа Google, Telegram, Twitter) взаимодействие с API происходит с помощью авторизации.\n",
    "\n",
    "Авторизация преследует много разных целей, и у нее есть много разных реализаций. Но в целом она выглядит так: тебе как пользователю сервиса (например, гугла), выдается личный **токен** по твоему запросу (обычно даже несколько токенов). Это просто длинная строка, которую ты прикладываешь к запросу, чтобы сервис знал, кто его послал.\n",
    "\n",
    "Так можно отслеживать тех, кто злоупотребляет запросами и посылает их слишком много, а главное - с токеном ты можешь получить доступ к данным своего пользователя. Например, можно скачать всю свою переписку в VK, или даже посылать сообщения в VK через скрипты.\n",
    "\n",
    "Давайте попробуем подключиться по API, например, к Яндекс.Переводчику.\n",
    "\n",
    "* Получите токен [тут](https://translate.yandex.ru/developers/keys)\n",
    "* Сохраните его в переменную\n",
    "* Запустите код"
   ]
  },
  {
   "cell_type": "code",
   "execution_count": null,
   "metadata": {},
   "outputs": [],
   "source": [
    "YANDEX_TRANSLATE_TOKEN = ''\n",
    "\n",
    "def get_all_langs():\n",
    "    url = 'https://translate.yandex.net/api/v1.5/tr.json/getLangs?key={}&ui=ru'.format(YANDEX_TRANSLATE_TOKEN)\n",
    "    return json.loads(requests.get(url).text)\n",
    "\n",
    "langs = get_all_langs()\n",
    "langs['langs']"
   ]
  },
  {
   "cell_type": "code",
   "execution_count": null,
   "metadata": {},
   "outputs": [],
   "source": [
    "def translate_sentence(sentence):\n",
    "    url = 'https://translate.yandex.net/api/v1.5/tr.json/translate?key={}&lang=en-ru&text={}'.format(YANDEX_TRANSLATE_TOKEN,\n",
    "                                                                                                     sentence)\n",
    "    return json.loads(requests.get(url).text)['text']\n",
    "\n",
    "translate_sentence('Somebody once told me the world is gonna roll me.')"
   ]
  },
  {
   "cell_type": "markdown",
   "metadata": {},
   "source": [
    "Заметьте, какой длинный получается URL! И всё из-за параметров запроса вида key1=value1&key2=value2&... На самом деле в функцию requests.get можно передать URL без параметров, а сами параметры перечислить в отдельном аргументе-словаре, это намного красивее (и мы так делали, когда посылали POST-запрос)."
   ]
  },
  {
   "cell_type": "code",
   "execution_count": null,
   "metadata": {},
   "outputs": [],
   "source": [
    "def translate_sentence(sentence):\n",
    "    url = 'https://translate.yandex.net/api/v1.5/tr.json/translate'\n",
    "    params = {'key': YANDEX_TRANSLATE_TOKEN,\n",
    "              'lang': 'en-ru',\n",
    "              'text': sentence} \n",
    "    return json.loads(requests.get(url, params).text)['text']\n",
    "\n",
    "translate_sentence('Somebody once told me the world is gonna roll me.')"
   ]
  },
  {
   "cell_type": "markdown",
   "metadata": {},
   "source": [
    "### Задание\n",
    "Напишите функцию, которая по названию города находит текущую температуру в нем.\n",
    "\n",
    "* Зарегистрируйтесь на сайте https://home.openweathermap.org/users/sign_up\n",
    "* Найдите свой токен вот здесь https://home.openweathermap.org/api_keys\n",
    "* Вставьте токен в переменную\n",
    "* Почитайте документацию, чтобы понять, как пользоваться API https://openweathermap.org/current\n",
    "* Напишите функцию, которая выводит текущую погоду в заданном городе\n",
    "* Возможно, надо подождать немного, чтобы ключ начал работать"
   ]
  },
  {
   "cell_type": "code",
   "execution_count": null,
   "metadata": {},
   "outputs": [],
   "source": [
    "OPENWEATHER_TOKEN = '...'"
   ]
  },
  {
   "cell_type": "code",
   "execution_count": null,
   "metadata": {},
   "outputs": [],
   "source": [
    "# Решение надо удалить\n",
    "\n",
    "T = 273.15\n",
    "\n",
    "def extract_city_temperature(city):\n",
    "    data = {\n",
    "        'appid': OPENWEATHER_TOKEN,\n",
    "        'q': city,\n",
    "    }\n",
    "    city_data = json.loads(requests.get('https://api.openweathermap.org/data/2.5/weather', data).text)\n",
    "    return city_data['main']['temp'] - T"
   ]
  },
  {
   "cell_type": "code",
   "execution_count": null,
   "metadata": {},
   "outputs": [],
   "source": [
    "extract_city_temperature('Moscow')"
   ]
  },
  {
   "cell_type": "code",
   "execution_count": null,
   "metadata": {},
   "outputs": [],
   "source": [
    "extract_city_temperature('Madrid')"
   ]
  },
  {
   "cell_type": "code",
   "execution_count": null,
   "metadata": {},
   "outputs": [],
   "source": [
    "extract_city_temperature('Murmansk')"
   ]
  },
  {
   "cell_type": "code",
   "execution_count": null,
   "metadata": {},
   "outputs": [],
   "source": [
    "extract_city_temperature('New York')"
   ]
  },
  {
   "cell_type": "markdown",
   "metadata": {},
   "source": [
    "## API  через библиотеку\n",
    "\n",
    "И наконец последняя стадия развития человечества: авторизация на такие сайты настолько сложная, а запросы настолько длинные и непонятные, что люди пишут целые небольшие библиотеки, в которых уже реализованы все функции, делающие http-запросы. Практически у всех крупных компаний (Гугл, Фейсбук, Телеграм) есть такие библиотеки."
   ]
  },
  {
   "cell_type": "code",
   "execution_count": null,
   "metadata": {},
   "outputs": [],
   "source": [
    "# ...\n",
    "# ...\n",
    "# ... TO BE CONTINUED\n",
    "# ...\n",
    "# ...\n",
    "# ...\n",
    "# ...\n",
    "# ...\n",
    "# ...\n",
    "# ..."
   ]
  },
  {
   "cell_type": "markdown",
   "metadata": {},
   "source": [
    "### Замечание про то, как хранить токены и пароли"
   ]
  },
  {
   "cell_type": "code",
   "execution_count": null,
   "metadata": {},
   "outputs": [],
   "source": [
    "# ...\n",
    "# ...\n",
    "# ... TO BE CONTINUED\n",
    "# ...\n",
    "# ...\n",
    "# ...\n",
    "# ...\n",
    "# ...\n",
    "# ...\n",
    "# ..."
   ]
  },
  {
   "cell_type": "markdown",
   "metadata": {},
   "source": [
    "### Сцена после титров\n",
    "![мем1](https://media.giphy.com/media/fxesWuvpUdKClpRoD4/giphy.gif)\n",
    "Меня очень просили вставить сюда эту гифку, но я не знаю как она связана с занятием."
   ]
  }
 ],
 "metadata": {
  "kernelspec": {
   "display_name": "Python 3",
   "language": "python",
   "name": "python3"
  },
  "language_info": {
   "codemirror_mode": {
    "name": "ipython",
    "version": 3
   },
   "file_extension": ".py",
   "mimetype": "text/x-python",
   "name": "python",
   "nbconvert_exporter": "python",
   "pygments_lexer": "ipython3",
   "version": "3.6.7"
  }
 },
 "nbformat": 4,
 "nbformat_minor": 2
}
